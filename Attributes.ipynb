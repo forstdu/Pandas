{
 "cells": [
  {
   "cell_type": "markdown",
   "id": "f9b512b6",
   "metadata": {},
   "source": [
    "# Series的属性"
   ]
  },
  {
   "cell_type": "code",
   "execution_count": 1,
   "id": "6c97203f",
   "metadata": {},
   "outputs": [],
   "source": [
    "import pandas as pd\n",
    "import numpy as np"
   ]
  },
  {
   "cell_type": "markdown",
   "id": "dba47905",
   "metadata": {},
   "source": [
    "## Series.T"
   ]
  },
  {
   "cell_type": "markdown",
   "id": "09e86fe0",
   "metadata": {},
   "source": [
    "转置Series对象，转置后还是它自己，这个属性没什么用"
   ]
  },
  {
   "cell_type": "code",
   "execution_count": 2,
   "id": "24708a48",
   "metadata": {},
   "outputs": [
    {
     "data": {
      "text/plain": [
       "0    a\n",
       "1    b\n",
       "2    c\n",
       "dtype: object"
      ]
     },
     "execution_count": 2,
     "metadata": {},
     "output_type": "execute_result"
    }
   ],
   "source": [
    "s1 = pd.Series(['a', 'b', 'c'])\n",
    "s1"
   ]
  },
  {
   "cell_type": "code",
   "execution_count": 3,
   "id": "66ceb3ec",
   "metadata": {
    "scrolled": true
   },
   "outputs": [
    {
     "data": {
      "text/plain": [
       "0    a\n",
       "1    b\n",
       "2    c\n",
       "dtype: object"
      ]
     },
     "execution_count": 3,
     "metadata": {},
     "output_type": "execute_result"
    }
   ],
   "source": [
    "s1.T"
   ]
  },
  {
   "cell_type": "markdown",
   "id": "4be027f6",
   "metadata": {},
   "source": [
    "## Series.array"
   ]
  },
  {
   "cell_type": "markdown",
   "id": "637b4bb5",
   "metadata": {},
   "source": [
    "返回的是ExtensionArray对象，ExtensionArray是Pandas库中的一种数据类型，用于存储特殊类型的数据，如日期、字符串等。它扩展了pandas的数据结构，并且提供了比其他数据类型更高的性能和效率。这里其实就是pandas的一种特有数据类型，如果想把series对象完全转化为numpy数组，得用Series.numpy()"
   ]
  },
  {
   "cell_type": "code",
   "execution_count": 4,
   "id": "2a8fb0ff",
   "metadata": {},
   "outputs": [
    {
     "data": {
      "text/plain": [
       "<PandasArray>\n",
       "['a', 'b', 'c']\n",
       "Length: 3, dtype: object"
      ]
     },
     "execution_count": 4,
     "metadata": {},
     "output_type": "execute_result"
    }
   ],
   "source": [
    "# 这里显示的就是PandasArray对象\n",
    "s1.array"
   ]
  },
  {
   "cell_type": "markdown",
   "id": "184def35",
   "metadata": {},
   "source": [
    "## Series.at"
   ]
  },
  {
   "cell_type": "markdown",
   "id": "b3b7f011",
   "metadata": {},
   "source": [
    "用于单个值的获取或者替换时速度比用iloc快，它也就只有这一个用处了，用处不大，只能针对单个的值，而且它接受的是索引标签，而不是索引位置，区别与Series.iat接受的是整数索引位置，类似于loc和iloc的区别"
   ]
  },
  {
   "cell_type": "code",
   "execution_count": 5,
   "id": "7e399fad",
   "metadata": {},
   "outputs": [
    {
     "data": {
      "text/plain": [
       "'b'"
      ]
     },
     "execution_count": 5,
     "metadata": {},
     "output_type": "execute_result"
    }
   ],
   "source": [
    "s1.at[1]"
   ]
  },
  {
   "cell_type": "markdown",
   "id": "e424ab33",
   "metadata": {},
   "source": [
    "## Series.attrs"
   ]
  },
  {
   "cell_type": "markdown",
   "id": "043784a4",
   "metadata": {},
   "source": [
    "返回的是一个字典对象，\"Series.attrs\"是pandas中的一个属性，它允许用户为pandas Series对象附加元数据（键/值对）。"
   ]
  },
  {
   "cell_type": "code",
   "execution_count": 6,
   "id": "80d427f8",
   "metadata": {},
   "outputs": [
    {
     "data": {
      "text/plain": [
       "'forstdu'"
      ]
     },
     "execution_count": 6,
     "metadata": {},
     "output_type": "execute_result"
    }
   ],
   "source": [
    "# 使用\"attrs\"属性附加元数据：\n",
    "s1.attrs[\"duke\"] = \"forstdu\"\n",
    "# 现在已经附加了键值对信息\n",
    "s1.attrs['duke']"
   ]
  },
  {
   "cell_type": "code",
   "execution_count": 7,
   "id": "db2b281b",
   "metadata": {},
   "outputs": [
    {
     "data": {
      "text/plain": [
       "{'duke': 'forstdu'}"
      ]
     },
     "execution_count": 7,
     "metadata": {},
     "output_type": "execute_result"
    }
   ],
   "source": [
    "# 这时候再来查看附加的属性，返回的是一个字典对象\n",
    "s1.attrs"
   ]
  },
  {
   "cell_type": "markdown",
   "id": "2791e1cf",
   "metadata": {},
   "source": [
    "## Series.axes"
   ]
  },
  {
   "cell_type": "markdown",
   "id": "40416bb2",
   "metadata": {},
   "source": [
    "返回行标签的列表,这个列表里只有一个元素，元素对象是RangeIndex,与Series.index的区别的就是index属性返回的直接就是RangeIndex对象，而不是一个列表"
   ]
  },
  {
   "cell_type": "code",
   "execution_count": 8,
   "id": "d591c0a5",
   "metadata": {},
   "outputs": [
    {
     "data": {
      "text/plain": [
       "[RangeIndex(start=0, stop=3, step=1)]"
      ]
     },
     "execution_count": 8,
     "metadata": {},
     "output_type": "execute_result"
    }
   ],
   "source": [
    "s1.axes"
   ]
  },
  {
   "cell_type": "markdown",
   "id": "f27efd48",
   "metadata": {},
   "source": [
    "## Series.dtype"
   ]
  },
  {
   "cell_type": "markdown",
   "id": "712dcb14",
   "metadata": {},
   "source": [
    "Series.dtype\"是pandas中的一个属性，用于表示pandas的\"Series\"数据结构中数据的数据类型（如int64, float64, object等），这是老版本的用法，新版本已经用Series.dtypes代替"
   ]
  },
  {
   "cell_type": "code",
   "execution_count": 9,
   "id": "8eb3e8fb",
   "metadata": {},
   "outputs": [
    {
     "data": {
      "text/plain": [
       "dtype('O')"
      ]
     },
     "execution_count": 9,
     "metadata": {},
     "output_type": "execute_result"
    }
   ],
   "source": [
    "# \"dtype('O')\"是pandas中的数据类型，表示Python的\"object\"类型，通常用于存储任意类型的数据（例如字符串、列表、字典等）\n",
    "s1.dtype"
   ]
  },
  {
   "cell_type": "markdown",
   "id": "61adc78a",
   "metadata": {},
   "source": [
    "## Series.dtypes"
   ]
  },
  {
   "cell_type": "markdown",
   "id": "368c9188",
   "metadata": {},
   "source": [
    "同上，这是新版的用法"
   ]
  },
  {
   "cell_type": "code",
   "execution_count": 10,
   "id": "472b44dd",
   "metadata": {},
   "outputs": [
    {
     "data": {
      "text/plain": [
       "dtype('O')"
      ]
     },
     "execution_count": 10,
     "metadata": {},
     "output_type": "execute_result"
    }
   ],
   "source": [
    "s1.dtypes"
   ]
  },
  {
   "cell_type": "markdown",
   "id": "bc48aade",
   "metadata": {},
   "source": [
    "## Series.flags"
   ]
  },
  {
   "cell_type": "markdown",
   "id": "76a34845",
   "metadata": {},
   "source": [
    "\"Series.flags\"是pandas中的一个属性，用于描述pandas的\"Series\"数据结构的内存状态，返回一个\"PandasBlockManager's Flags\"对象，该对象包含有关数据结构的内存状态的信息，如数据是否可以被写入或是否共享内存等。"
   ]
  },
  {
   "cell_type": "code",
   "execution_count": 11,
   "id": "99d0bd21",
   "metadata": {},
   "outputs": [
    {
     "data": {
      "text/plain": [
       "<Flags(allows_duplicate_labels=True)>"
      ]
     },
     "execution_count": 11,
     "metadata": {},
     "output_type": "execute_result"
    }
   ],
   "source": [
    "# \"allows_duplicate_labels=True\"是pandas中的一个参数，用于在创建pandas数据结构时允许标签重复。当该参数设置为\"True\"时，可以使用重复的标签，而当该参数设置为\"False\"时，不允许使用重复的标签。默认情况下，该参数的值为\"False\"，即不允许使用重复的标签。\n",
    "s1.flags"
   ]
  },
  {
   "cell_type": "markdown",
   "id": "6adf0ed5",
   "metadata": {},
   "source": [
    "## Series.hasnans"
   ]
  },
  {
   "cell_type": "markdown",
   "id": "dc7ec7a2",
   "metadata": {},
   "source": [
    "检查是否有缺失值，如果有，就返回Ture"
   ]
  },
  {
   "cell_type": "code",
   "execution_count": 12,
   "id": "0d93bd45",
   "metadata": {},
   "outputs": [
    {
     "data": {
      "text/plain": [
       "0       a\n",
       "1       b\n",
       "2    None\n",
       "3       c\n",
       "dtype: object"
      ]
     },
     "execution_count": 12,
     "metadata": {},
     "output_type": "execute_result"
    }
   ],
   "source": [
    "# 创建一个包含空值的Series对象\n",
    "s2 = pd.Series(['a', 'b', None, 'c'])\n",
    "s2"
   ]
  },
  {
   "cell_type": "code",
   "execution_count": 13,
   "id": "0fbceb45",
   "metadata": {},
   "outputs": [
    {
     "data": {
      "text/plain": [
       "True"
      ]
     },
     "execution_count": 13,
     "metadata": {},
     "output_type": "execute_result"
    }
   ],
   "source": [
    "# 检查是否有缺失值\n",
    "s2.hasnans"
   ]
  },
  {
   "cell_type": "markdown",
   "id": "4b75eafc",
   "metadata": {},
   "source": [
    "## Series.iat"
   ]
  },
  {
   "cell_type": "markdown",
   "id": "8e5bbfea",
   "metadata": {},
   "source": [
    "跟Series.at差不多，区别就是iloc和loc类似"
   ]
  },
  {
   "cell_type": "code",
   "execution_count": 14,
   "id": "ea1b32a1",
   "metadata": {},
   "outputs": [
    {
     "data": {
      "text/plain": [
       "'a'"
      ]
     },
     "execution_count": 14,
     "metadata": {},
     "output_type": "execute_result"
    }
   ],
   "source": [
    "s2.iat[0]"
   ]
  },
  {
   "cell_type": "markdown",
   "id": "89f149bb",
   "metadata": {},
   "source": [
    "## Series.iloc"
   ]
  },
  {
   "cell_type": "markdown",
   "id": "c847b764",
   "metadata": {},
   "source": [
    "传入单个的整数值，返回的是单个元素对象，传入位置列表，切片，布尔数组，元组返回的是一个新的series对象，还可以传入一个可调用函数,注意:这里的整数指的是标签的顺序位置，而不是标签名，比如行标签是[1,3,5],所对应的位置是[0,1,2]"
   ]
  },
  {
   "cell_type": "markdown",
   "id": "dde63a2e",
   "metadata": {},
   "source": [
    "### 传入单个整数"
   ]
  },
  {
   "cell_type": "code",
   "execution_count": 15,
   "id": "f6eff2e1",
   "metadata": {},
   "outputs": [
    {
     "data": {
      "text/plain": [
       "'c'"
      ]
     },
     "execution_count": 15,
     "metadata": {},
     "output_type": "execute_result"
    }
   ],
   "source": [
    "s3 = pd.Series([None, 'b', 'c', 'd', 'e'])\n",
    "s3.iloc[2]"
   ]
  },
  {
   "cell_type": "code",
   "execution_count": 16,
   "id": "89196bf6",
   "metadata": {},
   "outputs": [
    {
     "data": {
      "text/plain": [
       "str"
      ]
     },
     "execution_count": 16,
     "metadata": {},
     "output_type": "execute_result"
    }
   ],
   "source": [
    "# 此时返回的是一个字符串\n",
    "type(s3.iloc[2])"
   ]
  },
  {
   "cell_type": "code",
   "execution_count": 17,
   "id": "10c34633",
   "metadata": {},
   "outputs": [
    {
     "data": {
      "text/plain": [
       "'b'"
      ]
     },
     "execution_count": 17,
     "metadata": {},
     "output_type": "execute_result"
    }
   ],
   "source": [
    "# 这里可以看出输入的整数参数指的是行标签的位置，而不是指的行标签的数字\n",
    "pd.Series(['a', 'b', 'c'], index=[1, 3, 5]).iloc[1]"
   ]
  },
  {
   "cell_type": "markdown",
   "id": "4d98927c",
   "metadata": {},
   "source": [
    "### 传入整数列表或数组"
   ]
  },
  {
   "cell_type": "code",
   "execution_count": 18,
   "id": "f73d0956",
   "metadata": {},
   "outputs": [
    {
     "data": {
      "text/plain": [
       "0    None\n",
       "2       c\n",
       "dtype: object"
      ]
     },
     "execution_count": 18,
     "metadata": {},
     "output_type": "execute_result"
    }
   ],
   "source": [
    "# 传入一个列表[0, 2]\n",
    "s3.iloc[[0, 2]]"
   ]
  },
  {
   "cell_type": "code",
   "execution_count": 19,
   "id": "39e61bdd",
   "metadata": {},
   "outputs": [
    {
     "data": {
      "text/plain": [
       "pandas.core.series.Series"
      ]
     },
     "execution_count": 19,
     "metadata": {},
     "output_type": "execute_result"
    }
   ],
   "source": [
    "# 此时返回的是一个新的Series对象\n",
    "type(s3.iloc[[0, 2]])"
   ]
  },
  {
   "cell_type": "markdown",
   "id": "87fae3c6",
   "metadata": {},
   "source": [
    "### 传入一个切片"
   ]
  },
  {
   "cell_type": "code",
   "execution_count": 20,
   "id": "9583b20b",
   "metadata": {},
   "outputs": [
    {
     "data": {
      "text/plain": [
       "1    b\n",
       "2    c\n",
       "dtype: object"
      ]
     },
     "execution_count": 20,
     "metadata": {},
     "output_type": "execute_result"
    }
   ],
   "source": [
    "s3.iloc[1:3]"
   ]
  },
  {
   "cell_type": "markdown",
   "id": "be39bac9",
   "metadata": {},
   "source": [
    "### 传入一个布尔数组，注意：布尔数组的长度必须和Series长度一样"
   ]
  },
  {
   "cell_type": "code",
   "execution_count": 21,
   "id": "30d0c2a5",
   "metadata": {},
   "outputs": [
    {
     "data": {
      "text/plain": [
       "0    None\n",
       "1       b\n",
       "3       d\n",
       "dtype: object"
      ]
     },
     "execution_count": 21,
     "metadata": {},
     "output_type": "execute_result"
    }
   ],
   "source": [
    "# 只返回为True的地方\n",
    "s3.iloc[[True, True, False, True, False]]"
   ]
  },
  {
   "cell_type": "markdown",
   "id": "c3c47386",
   "metadata": {},
   "source": [
    "### 传入一个元组"
   ]
  },
  {
   "cell_type": "markdown",
   "id": "eb9da40a",
   "metadata": {},
   "source": [
    "这里Series只能用(1,)类型的元组，因为是一维的，元组参数更深入的用法看后面DataFrame里的用法"
   ]
  },
  {
   "cell_type": "code",
   "execution_count": 22,
   "id": "8c838996",
   "metadata": {},
   "outputs": [
    {
     "data": {
      "text/plain": [
       "'d'"
      ]
     },
     "execution_count": 22,
     "metadata": {},
     "output_type": "execute_result"
    }
   ],
   "source": [
    "s3.iloc[(3,)]"
   ]
  },
  {
   "cell_type": "markdown",
   "id": "09644f97",
   "metadata": {},
   "source": [
    "### 传入一个可调用函数"
   ]
  },
  {
   "cell_type": "markdown",
   "id": "0069579a",
   "metadata": {},
   "source": [
    "可调用函数可以用于对数据进行动态索引，比如对于满足特定条件的数据进行索引,比如下面的代码用于选出索引位置大于2的数据，记住这个动态的好处，有时候很有用"
   ]
  },
  {
   "cell_type": "code",
   "execution_count": 23,
   "id": "98b1f22f",
   "metadata": {},
   "outputs": [
    {
     "data": {
      "text/plain": [
       "3     5\n",
       "4     2\n",
       "5    88\n",
       "dtype: int64"
      ]
     },
     "execution_count": 23,
     "metadata": {},
     "output_type": "execute_result"
    }
   ],
   "source": [
    "pd.Series([10, 22, 13, 5, 2, 88]).iloc[lambda s: s.index > 2]"
   ]
  },
  {
   "cell_type": "markdown",
   "id": "47d385ae",
   "metadata": {},
   "source": [
    "### IndexError报错"
   ]
  },
  {
   "cell_type": "markdown",
   "id": "a6439444",
   "metadata": {},
   "source": [
    "如果传入的整数索引参数超过了Series的长度，就会报IndexError错误，切片例外，传入的切片范围是可以超过Series的长度的"
   ]
  },
  {
   "cell_type": "markdown",
   "id": "68dc2541",
   "metadata": {},
   "source": [
    "## Series.index"
   ]
  },
  {
   "cell_type": "markdown",
   "id": "2aded2d0",
   "metadata": {},
   "source": [
    "返回行标签对象RangeIndex"
   ]
  },
  {
   "cell_type": "code",
   "execution_count": 24,
   "id": "aaa5501e",
   "metadata": {},
   "outputs": [
    {
     "data": {
      "text/plain": [
       "RangeIndex(start=0, stop=5, step=1)"
      ]
     },
     "execution_count": 24,
     "metadata": {},
     "output_type": "execute_result"
    }
   ],
   "source": [
    "s3.index"
   ]
  },
  {
   "cell_type": "code",
   "execution_count": 25,
   "id": "e6ab5fbb",
   "metadata": {},
   "outputs": [
    {
     "data": {
      "text/plain": [
       "[0, 1, 2, 3, 4]"
      ]
     },
     "execution_count": 25,
     "metadata": {},
     "output_type": "execute_result"
    }
   ],
   "source": [
    "# 将Rangeindex对象转换为列表\n",
    "list(s3.index)"
   ]
  },
  {
   "cell_type": "markdown",
   "id": "8c054cf4",
   "metadata": {},
   "source": [
    "## Series.is_monotonic_decreasing"
   ]
  },
  {
   "cell_type": "markdown",
   "id": "f8912b29",
   "metadata": {},
   "source": [
    "返回布尔值，判断Series的值是否是单调递减"
   ]
  },
  {
   "cell_type": "code",
   "execution_count": 26,
   "id": "45cda5e0",
   "metadata": {},
   "outputs": [],
   "source": [
    "s4 = pd.Series(['c', 'b', 'a'])"
   ]
  },
  {
   "cell_type": "code",
   "execution_count": 27,
   "id": "5b4ed4fd",
   "metadata": {},
   "outputs": [
    {
     "data": {
      "text/plain": [
       "True"
      ]
     },
     "execution_count": 27,
     "metadata": {},
     "output_type": "execute_result"
    }
   ],
   "source": [
    "# 字母降序也能判断\n",
    "s4.is_monotonic_decreasing"
   ]
  },
  {
   "cell_type": "code",
   "execution_count": 28,
   "id": "bea42909",
   "metadata": {},
   "outputs": [
    {
     "data": {
      "text/plain": [
       "True"
      ]
     },
     "execution_count": 28,
     "metadata": {},
     "output_type": "execute_result"
    }
   ],
   "source": [
    "# 试一试有相同字母或者数字时会怎样,可以看到也是可以的\n",
    "pd.Series(['c', 'b', 'b', 'a']).is_monotonic_decreasing"
   ]
  },
  {
   "cell_type": "markdown",
   "id": "af4b9af8",
   "metadata": {},
   "source": [
    "## Series.is_monotonic_increasing"
   ]
  },
  {
   "cell_type": "markdown",
   "id": "b527bebb",
   "metadata": {},
   "source": [
    "同上，只是这是单调递增"
   ]
  },
  {
   "cell_type": "markdown",
   "id": "083ce7f6",
   "metadata": {},
   "source": [
    "## Series.is_unique"
   ]
  },
  {
   "cell_type": "markdown",
   "id": "4918402a",
   "metadata": {},
   "source": [
    "返回布尔值，判断Series的值是否都是唯一的"
   ]
  },
  {
   "cell_type": "code",
   "execution_count": 29,
   "id": "b9320828",
   "metadata": {},
   "outputs": [
    {
     "data": {
      "text/plain": [
       "False"
      ]
     },
     "execution_count": 29,
     "metadata": {},
     "output_type": "execute_result"
    }
   ],
   "source": [
    "pd.Series(['a', 'b', 'b']).is_unique"
   ]
  },
  {
   "cell_type": "code",
   "execution_count": 30,
   "id": "68376f28",
   "metadata": {},
   "outputs": [
    {
     "data": {
      "text/plain": [
       "False"
      ]
     },
     "execution_count": 30,
     "metadata": {},
     "output_type": "execute_result"
    }
   ],
   "source": [
    "# 缺失值重复也会判断为False\n",
    "pd.Series([None, None, 'a']).is_unique"
   ]
  },
  {
   "cell_type": "markdown",
   "id": "429da6dd",
   "metadata": {},
   "source": [
    "## Series.loc"
   ]
  },
  {
   "cell_type": "markdown",
   "id": "8b11b502",
   "metadata": {},
   "source": [
    "与Series.iloc类似,但是有细微区别，loc接受的是行标签的名，iloc是行标签的位置，而且loc切片时是首尾包含的，iloc和python语法一样，切片是不包含尾的"
   ]
  },
  {
   "cell_type": "markdown",
   "id": "cf16fd3f",
   "metadata": {},
   "source": [
    "### 传入一个行标签名"
   ]
  },
  {
   "cell_type": "code",
   "execution_count": 31,
   "id": "a837aba1",
   "metadata": {},
   "outputs": [
    {
     "data": {
      "text/plain": [
       "1"
      ]
     },
     "execution_count": 31,
     "metadata": {},
     "output_type": "execute_result"
    }
   ],
   "source": [
    "pd.Series([1, 2, 3], index=['a', 'b', 'c']).loc['a']"
   ]
  },
  {
   "cell_type": "code",
   "execution_count": 32,
   "id": "3b0cd978",
   "metadata": {},
   "outputs": [
    {
     "data": {
      "text/plain": [
       "'c'"
      ]
     },
     "execution_count": 32,
     "metadata": {},
     "output_type": "execute_result"
    }
   ],
   "source": [
    "# 这里就可以看出指的是行标签名\n",
    "pd.Series(['a', 'b', 'c'], index=[1, 2, 4]).loc[4]"
   ]
  },
  {
   "cell_type": "markdown",
   "id": "8aae0453",
   "metadata": {},
   "source": [
    "### 传入一个行标签名的列表或者数组"
   ]
  },
  {
   "cell_type": "code",
   "execution_count": 33,
   "id": "cefcd421",
   "metadata": {},
   "outputs": [
    {
     "data": {
      "text/plain": [
       "a    1\n",
       "c    3\n",
       "dtype: int64"
      ]
     },
     "execution_count": 33,
     "metadata": {},
     "output_type": "execute_result"
    }
   ],
   "source": [
    "pd.Series([1, 2, 3], index=['a', 'b', 'c']).loc[['a', 'c']]"
   ]
  },
  {
   "cell_type": "markdown",
   "id": "846e1c55",
   "metadata": {},
   "source": [
    "### 传入一个切片"
   ]
  },
  {
   "cell_type": "code",
   "execution_count": 34,
   "id": "c8a7a5e7",
   "metadata": {},
   "outputs": [
    {
     "data": {
      "text/plain": [
       "b    2\n",
       "c    3\n",
       "d    4\n",
       "dtype: int64"
      ]
     },
     "execution_count": 34,
     "metadata": {},
     "output_type": "execute_result"
    }
   ],
   "source": [
    "# 注意看这里的切片是包含尾部的\n",
    "pd.Series([1, 2, 3, 4], index=['a', 'b', 'c' ,'d']).loc['b':'d']"
   ]
  },
  {
   "cell_type": "markdown",
   "id": "5524a4ec",
   "metadata": {},
   "source": [
    "### 传入一个布尔数组，数组长度必须和Series长度一样"
   ]
  },
  {
   "cell_type": "code",
   "execution_count": 35,
   "id": "4d1d1fa8",
   "metadata": {},
   "outputs": [
    {
     "data": {
      "text/plain": [
       "a    1\n",
       "c    3\n",
       "dtype: int64"
      ]
     },
     "execution_count": 35,
     "metadata": {},
     "output_type": "execute_result"
    }
   ],
   "source": [
    "pd.Series([1, 2, 3, 4], index=['a', 'b', 'c' ,'d']).loc[[True, False, True, False]]"
   ]
  },
  {
   "cell_type": "markdown",
   "id": "920d846e",
   "metadata": {},
   "source": [
    "### 传入一个索引相同的布尔值Series对象"
   ]
  },
  {
   "cell_type": "markdown",
   "id": "c803a661",
   "metadata": {},
   "source": [
    "传入的Series对象值必须是布尔类型，且索引要和原Series索引一一对应，一摸一样，这样就会筛选出传入Series对象里位置为True的位置"
   ]
  },
  {
   "cell_type": "code",
   "execution_count": 36,
   "id": "d3a2f842",
   "metadata": {},
   "outputs": [
    {
     "data": {
      "text/plain": [
       "a    1\n",
       "c    5\n",
       "dtype: int64"
      ]
     },
     "execution_count": 36,
     "metadata": {},
     "output_type": "execute_result"
    }
   ],
   "source": [
    "# 两个index必须一样\n",
    "pd.Series([1, 3, 5], index=['a', 'b', 'c']).loc[pd.Series([True, False, True], index=['a', 'b', 'c'])]"
   ]
  },
  {
   "cell_type": "markdown",
   "id": "649ac987",
   "metadata": {},
   "source": [
    "### 传入一个索引对象"
   ]
  },
  {
   "cell_type": "markdown",
   "id": "63775339",
   "metadata": {},
   "source": [
    "传入的索引对象要在原Series的索引里才行"
   ]
  },
  {
   "cell_type": "code",
   "execution_count": 37,
   "id": "bab58ff6",
   "metadata": {},
   "outputs": [
    {
     "data": {
      "text/plain": [
       "index_name\n",
       "a    1\n",
       "c    5\n",
       "dtype: int64"
      ]
     },
     "execution_count": 37,
     "metadata": {},
     "output_type": "execute_result"
    }
   ],
   "source": [
    "pd.Series([1, 3, 5], index=['a', 'b', 'c']).loc[pd.Index(['a', 'c'], name='index_name')]"
   ]
  },
  {
   "cell_type": "markdown",
   "id": "307482c6",
   "metadata": {},
   "source": [
    "### 传入一个可调用函数"
   ]
  },
  {
   "cell_type": "markdown",
   "id": "78f8dd19",
   "metadata": {},
   "source": [
    "类似于iloc一样的使用"
   ]
  },
  {
   "cell_type": "code",
   "execution_count": 38,
   "id": "8d57affd",
   "metadata": {},
   "outputs": [
    {
     "data": {
      "text/plain": [
       "b    3\n",
       "dtype: int64"
      ]
     },
     "execution_count": 38,
     "metadata": {},
     "output_type": "execute_result"
    }
   ],
   "source": [
    "pd.Series([1, 3, 5], index=['a', 'b', 'c']).loc[lambda x: x.index=='b']"
   ]
  },
  {
   "cell_type": "markdown",
   "id": "5d1b0e53",
   "metadata": {},
   "source": [
    "## Series.name"
   ]
  },
  {
   "cell_type": "markdown",
   "id": "37e34a35",
   "metadata": {},
   "source": [
    "返回series对象的名字，如果是从DataFrame里取出来的Series，名字就是对应的该列列名"
   ]
  },
  {
   "cell_type": "code",
   "execution_count": 39,
   "id": "f172cfdc",
   "metadata": {},
   "outputs": [
    {
     "data": {
      "text/plain": [
       "0    a\n",
       "1    b\n",
       "2    c\n",
       "Name: my_series, dtype: object"
      ]
     },
     "execution_count": 39,
     "metadata": {},
     "output_type": "execute_result"
    }
   ],
   "source": [
    "# 可以在创建是添加名字，打印展示的时候就会显示出Name属性\n",
    "s5 = pd.Series(['a', 'b', 'c'], name='my_series')\n",
    "s5"
   ]
  },
  {
   "cell_type": "code",
   "execution_count": 40,
   "id": "54c0333c",
   "metadata": {},
   "outputs": [
    {
     "data": {
      "text/plain": [
       "'my_series'"
      ]
     },
     "execution_count": 40,
     "metadata": {},
     "output_type": "execute_result"
    }
   ],
   "source": [
    "# 访问Series的名字属性\n",
    "s5.name"
   ]
  },
  {
   "cell_type": "code",
   "execution_count": 41,
   "id": "d871ae99",
   "metadata": {},
   "outputs": [
    {
     "data": {
      "text/plain": [
       "0    1\n",
       "1    3\n",
       "2    5\n",
       "Name: Odd Numbers, dtype: int64"
      ]
     },
     "execution_count": 41,
     "metadata": {},
     "output_type": "execute_result"
    }
   ],
   "source": [
    "# 从DataFrame里获取的Series，列名就是该Series的名字\n",
    "df1 = pd.DataFrame([[1, 2], [3, 4], [5, 6]],columns=[\"Odd Numbers\", \"Even Numbers\"])\n",
    "df1['Odd Numbers']"
   ]
  },
  {
   "cell_type": "code",
   "execution_count": 42,
   "id": "7ccbf18c",
   "metadata": {},
   "outputs": [
    {
     "data": {
      "text/plain": [
       "'Odd Numbers'"
      ]
     },
     "execution_count": 42,
     "metadata": {},
     "output_type": "execute_result"
    }
   ],
   "source": [
    "# 访问name属性\n",
    "df1['Odd Numbers'].name"
   ]
  },
  {
   "cell_type": "markdown",
   "id": "e14f9d09",
   "metadata": {},
   "source": [
    "## Series.nbytes"
   ]
  },
  {
   "cell_type": "markdown",
   "id": "81a0b138",
   "metadata": {},
   "source": [
    "pandas的Series的nbytes属性用于检查Series的底层数据的内存使用情况。它以字节为单位返回数据的大小。这包括存储值所使用的内存和与在Series对象中存储数据相关的任何开销。当处理大型数据集时，nbytes属性可以帮助了解pandas Series的内存使用情况，从而帮助内存优化。"
   ]
  },
  {
   "cell_type": "code",
   "execution_count": 43,
   "id": "f179fe01",
   "metadata": {},
   "outputs": [
    {
     "data": {
      "text/plain": [
       "24"
      ]
     },
     "execution_count": 43,
     "metadata": {},
     "output_type": "execute_result"
    }
   ],
   "source": [
    "s5.nbytes"
   ]
  },
  {
   "cell_type": "markdown",
   "id": "2edf60df",
   "metadata": {},
   "source": [
    "## Series.ndim"
   ]
  },
  {
   "cell_type": "markdown",
   "id": "88df885b",
   "metadata": {},
   "source": [
    "返回数据的维度，显然Series维度始终为1"
   ]
  },
  {
   "cell_type": "code",
   "execution_count": 44,
   "id": "fbbcedbf",
   "metadata": {},
   "outputs": [
    {
     "data": {
      "text/plain": [
       "1"
      ]
     },
     "execution_count": 44,
     "metadata": {},
     "output_type": "execute_result"
    }
   ],
   "source": [
    "s5.ndim"
   ]
  },
  {
   "cell_type": "markdown",
   "id": "8e6fb5be",
   "metadata": {},
   "source": [
    "## Series.shape"
   ]
  },
  {
   "cell_type": "markdown",
   "id": "d4e0262f",
   "metadata": {},
   "source": [
    "以元组的形式返回数据的维度形状"
   ]
  },
  {
   "cell_type": "code",
   "execution_count": 45,
   "id": "6c0b598a",
   "metadata": {},
   "outputs": [
    {
     "data": {
      "text/plain": [
       "(3,)"
      ]
     },
     "execution_count": 45,
     "metadata": {},
     "output_type": "execute_result"
    }
   ],
   "source": [
    "s5.shape"
   ]
  },
  {
   "cell_type": "markdown",
   "id": "db22819e",
   "metadata": {},
   "source": [
    "## Series.size"
   ]
  },
  {
   "cell_type": "markdown",
   "id": "8a9853cb",
   "metadata": {},
   "source": [
    "返回Series对象元素的个数"
   ]
  },
  {
   "cell_type": "code",
   "execution_count": 46,
   "id": "f2d8bbaa",
   "metadata": {},
   "outputs": [
    {
     "data": {
      "text/plain": [
       "3"
      ]
     },
     "execution_count": 46,
     "metadata": {},
     "output_type": "execute_result"
    }
   ],
   "source": [
    "s5.size"
   ]
  },
  {
   "cell_type": "markdown",
   "id": "cbfb0ef4",
   "metadata": {},
   "source": [
    "## Series.values"
   ]
  },
  {
   "cell_type": "markdown",
   "id": "4081b974",
   "metadata": {},
   "source": [
    "将Series对象以numpy数组返回，与Series.to_numpy不同的是series.values 返回组成 Series 的底层 numpy 数组，没有进行复制。这意味着对返回的 numpy 数组的更改也将更改原始 Series。\n",
    "\n",
    "另一方面，series.to_numpy() 始终会返回数据的新副本。这可能更耗费计算资源，但它也可以确保如果修改返回的 numpy 数组则不会更改原始 Series。\n",
    "\n",
    "通常，如果您只想访问 Series 的值，并且不关心修改它们，使用 series.values 更高效。如果您要在不影响原始 Series 的情况下修改返回的数组，请使用 series.to_numpy()"
   ]
  },
  {
   "cell_type": "code",
   "execution_count": 47,
   "id": "7e2f1d53",
   "metadata": {},
   "outputs": [
    {
     "data": {
      "text/plain": [
       "0    a\n",
       "1    b\n",
       "2    c\n",
       "dtype: object"
      ]
     },
     "execution_count": 47,
     "metadata": {},
     "output_type": "execute_result"
    }
   ],
   "source": [
    "s6 = pd.Series(['a', 'b', 'c'])\n",
    "s6"
   ]
  },
  {
   "cell_type": "code",
   "execution_count": 48,
   "id": "757bf991",
   "metadata": {},
   "outputs": [
    {
     "data": {
      "text/plain": [
       "array(['a', 'b', 'c'], dtype=object)"
      ]
     },
     "execution_count": 48,
     "metadata": {},
     "output_type": "execute_result"
    }
   ],
   "source": [
    "# 返回s6的numpy数组，此时将返回的数组进行修改后，看看原s6会不会变\n",
    "s6_values_array = s6.values\n",
    "s6_values_array"
   ]
  },
  {
   "cell_type": "code",
   "execution_count": 49,
   "id": "cb5ebf68",
   "metadata": {},
   "outputs": [
    {
     "data": {
      "text/plain": [
       "0    a\n",
       "1    e\n",
       "2    c\n",
       "dtype: object"
      ]
     },
     "execution_count": 49,
     "metadata": {},
     "output_type": "execute_result"
    }
   ],
   "source": [
    "# 修改b为e\n",
    "s6_values_array[1] = 'e'\n",
    "# 再看看s6是否有改变,可以看到s6变了，但是如果用to_numpy就不会变\n",
    "s6"
   ]
  },
  {
   "cell_type": "markdown",
   "id": "b530be5a",
   "metadata": {},
   "source": [
    "# Series的方法"
   ]
  },
  {
   "cell_type": "markdown",
   "id": "f5e8d263",
   "metadata": {},
   "source": [
    "## Series.abs()"
   ]
  },
  {
   "cell_type": "markdown",
   "id": "3b082bd1",
   "metadata": {},
   "source": [
    "返回每个元素的绝对值，只能用于数字型的数据"
   ]
  },
  {
   "cell_type": "code",
   "execution_count": 50,
   "id": "3d33160e",
   "metadata": {},
   "outputs": [
    {
     "data": {
      "text/plain": [
       "0     1\n",
       "1     8\n",
       "2    10\n",
       "dtype: int64"
      ]
     },
     "execution_count": 50,
     "metadata": {},
     "output_type": "execute_result"
    }
   ],
   "source": [
    "pd.Series([1, -8, -10]).abs()"
   ]
  },
  {
   "cell_type": "markdown",
   "id": "de57f40b",
   "metadata": {},
   "source": [
    "## Series.add(other, level=None, fill_value=None, axis=0)"
   ]
  },
  {
   "cell_type": "markdown",
   "id": "d2529b58",
   "metadata": {},
   "source": [
    "用于计算两个 Series 对象或者一个 Series 和一个标量之间的加法。返回两个 Series 相加的结果，结果的索引为两个输入的并集,当然两个Series直接用加号相加也是一样的效果，但是add方法提供能fill_value参数，可以对缺失值进行填充\n",
    "\n",
    "> other: 另一个 Series 或标量，将其与原 Series 进行加法运算。<br>\n",
    "> level：可选，用于在多级索引的情况下指定对齐的级别。<br>\n",
    "> fill_value：可选，在未匹配的位置上的填充值。<br>\n",
    "> axis：可选，指定将操作应用于的轴，默认为 0,这里这个参数对Series没用<br>"
   ]
  },
  {
   "cell_type": "code",
   "execution_count": 51,
   "id": "1d0a6d12",
   "metadata": {},
   "outputs": [
    {
     "data": {
      "text/plain": [
       "a    NaN\n",
       "b    5.0\n",
       "c    NaN\n",
       "d    NaN\n",
       "e    NaN\n",
       "dtype: float64"
      ]
     },
     "execution_count": 51,
     "metadata": {},
     "output_type": "execute_result"
    }
   ],
   "source": [
    "# 相加的原则是索引一一对应，如果没有对应的，则相加起来就是空值\n",
    "s7 = pd.Series([1, 2, 3], index=['a', 'b', 'c'])\n",
    "s8 = pd.Series([3, 4, np.nan], index=['b', 'd', 'e'])\n",
    "s7.add(s8)"
   ]
  },
  {
   "cell_type": "code",
   "execution_count": 52,
   "id": "a722afd3",
   "metadata": {},
   "outputs": [
    {
     "data": {
      "text/plain": [
       "a    NaN\n",
       "b    5.0\n",
       "c    NaN\n",
       "d    NaN\n",
       "e    NaN\n",
       "dtype: float64"
      ]
     },
     "execution_count": 52,
     "metadata": {},
     "output_type": "execute_result"
    }
   ],
   "source": [
    "# 直接用加号也是一样的效果\n",
    "s7+s8"
   ]
  },
  {
   "cell_type": "code",
   "execution_count": 53,
   "id": "bcfc3db4",
   "metadata": {},
   "outputs": [
    {
     "data": {
      "text/plain": [
       "a    2.0\n",
       "b    5.0\n",
       "c    4.0\n",
       "d    5.0\n",
       "e    NaN\n",
       "dtype: float64"
      ]
     },
     "execution_count": 53,
     "metadata": {},
     "output_type": "execute_result"
    }
   ],
   "source": [
    "# 可以看到这里是对s8填充，原来s7的空值与s8相加，还是得到的空值\n",
    "s7.add(s8,fill_value=1)"
   ]
  },
  {
   "cell_type": "code",
   "execution_count": 54,
   "id": "c4354649",
   "metadata": {},
   "outputs": [
    {
     "data": {
      "text/plain": [
       "0    ac\n",
       "1    bd\n",
       "dtype: object"
      ]
     },
     "execution_count": 54,
     "metadata": {},
     "output_type": "execute_result"
    }
   ],
   "source": [
    "# 如果是字符串，则相加后是字符串拼接\n",
    "pd.Series(['a', 'b']) + pd.Series(['c', 'd'])"
   ]
  },
  {
   "cell_type": "code",
   "execution_count": 55,
   "id": "44ad71d0",
   "metadata": {},
   "outputs": [
    {
     "data": {
      "text/plain": [
       "a  1    1\n",
       "b  2    2\n",
       "c  3    3\n",
       "dtype: int64"
      ]
     },
     "execution_count": 55,
     "metadata": {},
     "output_type": "execute_result"
    }
   ],
   "source": [
    "# level参数用于指定执行加法运算的层级。当两个Series相加时，它们可能具有不同的多级索引层级。level 参数指定在哪个层级上进行加法运算。如果没有指定 level 参数，则在最低层级进行加法运算\n",
    "# 创建多层索引的Series对象，但是这里对series好像没什么用，以后在DataFrame再详细了解\n",
    "pd.Series([1, 2, 3], index=[['a', 'b', 'c'], [1, 2, 3]])"
   ]
  },
  {
   "cell_type": "markdown",
   "id": "6782d12b",
   "metadata": {},
   "source": [
    "## Series.add_prefix(prefix)"
   ]
  },
  {
   "cell_type": "markdown",
   "id": "ed110575",
   "metadata": {},
   "source": [
    "给Series对象的行标签添加前缀,如果是DataFrame,用这个方法则是给列标签添加前缀\n",
    "> prefix:要添加的前缀字符串"
   ]
  },
  {
   "cell_type": "code",
   "execution_count": 56,
   "id": "0664b664",
   "metadata": {},
   "outputs": [
    {
     "data": {
      "text/plain": [
       "prefix_a    1\n",
       "prefix_b    2\n",
       "prefix_c    3\n",
       "dtype: int64"
      ]
     },
     "execution_count": 56,
     "metadata": {},
     "output_type": "execute_result"
    }
   ],
   "source": [
    "pd.Series([1, 2, 3], index=['a', 'b', 'c']).add_prefix('prefix_')"
   ]
  },
  {
   "cell_type": "markdown",
   "id": "b179ab80",
   "metadata": {},
   "source": [
    "## Series.add_suffix(suffix)"
   ]
  },
  {
   "cell_type": "markdown",
   "id": "0894171c",
   "metadata": {},
   "source": [
    "给Series对象的行标签添加前缀,如果是DataFrame,用这个方法则是给列标签添加前缀\n",
    "> prefix:要添加的前缀字符串"
   ]
  },
  {
   "cell_type": "code",
   "execution_count": 57,
   "id": "59c63863",
   "metadata": {},
   "outputs": [
    {
     "data": {
      "text/plain": [
       "a_suffix    1\n",
       "b_suffix    2\n",
       "c_suffix    3\n",
       "dtype: int64"
      ]
     },
     "execution_count": 57,
     "metadata": {},
     "output_type": "execute_result"
    }
   ],
   "source": [
    "pd.Series([1, 2, 3], index=['a', 'b', 'c']).add_suffix('_suffix')"
   ]
  },
  {
   "cell_type": "markdown",
   "id": "b9bf9ba5",
   "metadata": {},
   "source": [
    "## Series.agg(func=None, axis=0, \\*args, \\**kwargs)"
   ]
  },
  {
   "cell_type": "markdown",
   "id": "28de5379",
   "metadata": {},
   "source": [
    "用于聚合 Series 中值的方法。它允许您在 Series 的数据上应用一个或多个聚合函数。该方法需要一个聚合函数列表作为输入，并返回一个 Series，其中包含对原始 Series 中的数据应用每个函数的结果,返回标量值或者新的Series对象\n",
    "> func:可以传入自定义函数，聚合函数名的字符串，函数名列表，比如[np.sum, 'mean']<br>\n",
    "> axis:只对DataFrame有用<br>\n",
    "> \\*args:使用 args 和 kwargs 传递参数给聚合函数，以便根据需要对聚合进行更多的控制,args 是一个位置参数的列表，表示您可以向函数传递任意数量的位置参数。它们将作为元组（tuple）传递给函数<br>\n",
    "> \\**kwargs:是一个关键字参数的字典，表示您可以向函数传递任意数量的关键字参数。它们将作为字典（dictionary）传递给函数"
   ]
  },
  {
   "cell_type": "code",
   "execution_count": 58,
   "id": "c5a1dcc4",
   "metadata": {},
   "outputs": [
    {
     "data": {
      "text/plain": [
       "6"
      ]
     },
     "execution_count": 58,
     "metadata": {},
     "output_type": "execute_result"
    }
   ],
   "source": [
    "# 传入单个的聚合函数，返回一个标量值\n",
    "pd.Series([1, 2, 3], index=['a', 'b', 'c']).agg('sum')"
   ]
  },
  {
   "cell_type": "code",
   "execution_count": 59,
   "id": "cf5c5097",
   "metadata": {},
   "outputs": [
    {
     "data": {
      "text/plain": [
       "sum    6\n",
       "min    1\n",
       "max    3\n",
       "dtype: int64"
      ]
     },
     "execution_count": 59,
     "metadata": {},
     "output_type": "execute_result"
    }
   ],
   "source": [
    "# 以列表形式传入多个聚合函数，返回一个新的Series对象\n",
    "pd.Series([1, 2, 3], index=['a', 'b', 'c']).agg(['sum', 'min', 'max'])"
   ]
  },
  {
   "cell_type": "code",
   "execution_count": 60,
   "id": "032d05d2",
   "metadata": {},
   "outputs": [
    {
     "data": {
      "text/plain": [
       "2.0"
      ]
     },
     "execution_count": 60,
     "metadata": {},
     "output_type": "execute_result"
    }
   ],
   "source": [
    "# 传入自定义函数，自定义聚合函数必须是可调用对象，并且接受一个数组作为输入，并返回一个单个结果\n",
    "\n",
    "# 先自定义一个函数\n",
    "def custom_agg_function(data):\n",
    "    return sum(data) / len(data)\n",
    "\n",
    "# 将该自定义函数传入agg方法中，该函数接受数组 data 作为输入，并返回它们的平均值\n",
    "pd.Series([1, 2, 3], index=['a', 'b', 'c']).agg(custom_agg_function)"
   ]
  },
  {
   "cell_type": "code",
   "execution_count": 61,
   "id": "7845ea8c",
   "metadata": {},
   "outputs": [
    {
     "data": {
      "text/plain": [
       "4.0"
      ]
     },
     "execution_count": 61,
     "metadata": {},
     "output_type": "execute_result"
    }
   ],
   "source": [
    "# 在 agg 方法中，可以使用 args 和 kwargs 传递参数给聚合函数，以便根据需要对聚合进行更多的控制\n",
    "\n",
    "def custom_agg_function_2(data, multiplier):\n",
    "    return sum(data) / len(data) * multiplier\n",
    "\n",
    "pd.Series([1, 2, 3], index=['a', 'b', 'c']).agg(custom_agg_function_2,multiplier=2)"
   ]
  },
  {
   "cell_type": "markdown",
   "id": "a52f259f",
   "metadata": {},
   "source": [
    "## Series.aggregate"
   ]
  },
  {
   "cell_type": "markdown",
   "id": "fd47bbd6",
   "metadata": {},
   "source": [
    "和agg方法一模一样"
   ]
  },
  {
   "cell_type": "markdown",
   "id": "e16218fc",
   "metadata": {},
   "source": [
    "## Series.align()"
   ]
  },
  {
   "cell_type": "markdown",
   "id": "d7757f99",
   "metadata": {},
   "source": [
    "Series.align(other, join='outer', axis=None, level=None, copy=True, fill_value=None, method=None, limit=None, fill_axis=0, broadcast_axis=None)"
   ]
  },
  {
   "cell_type": "markdown",
   "id": "4a99312a",
   "metadata": {},
   "source": [
    "用于对齐两个Series对象或者两个DataFrame对象。它可以根据索引或列对齐两个对象，并返回一个元组，元组中包含两个对齐后的对象\n",
    "> other：需要与调用该函数的对象对齐的另一个对象。<br>\n",
    "join：对齐方式，可以是\"left\"、\"right\"、\"inner\"或\"outer\"。默认为\"outer\"。<br>\n",
    "\"left\"：只保留调用该函数的对象的索引，并使用NaN填充其他对象的值。<br>\n",
    "\"right\"：只保留其他对象的索引，并使用NaN填充调用该函数的对象的值。<br>\n",
    "\"inner\"：只保留两个对象都有的索引。<br>\n",
    "\"outer\"：保留两个对象的所有索引，并使用NaN填充缺失的值。<br>\n",
    "axis：指定对齐的轴，可以是0（对齐行）或1（对齐列），仅适用于DataFrame。<br>\n",
    "level：指定对齐的级别，仅适用于MultiIndex。<br>\n",
    "copy：是否对对齐后的对象进行复制，默认为True。<br>\n",
    "fill_value：用于填充缺失值的值。<br>\n",
    "method：向丢失的值填充的方法，可以是\"backfill\"、\"bfill\"、\"pad\"或\"ffill\"。<br>\n",
    "limit：限制填充的数量。<br>\n",
    "fill_axis：指定填充的轴，可以是0（行）或1（列），仅适用于DataFrame。<br>\n",
    "broadcast_axis：广播填充的轴，仅适用于DataFrame。<br>"
   ]
  },
  {
   "cell_type": "code",
   "execution_count": 62,
   "id": "0fa10317",
   "metadata": {},
   "outputs": [
    {
     "data": {
      "text/plain": [
       "(1      a\n",
       " 2      b\n",
       " 3      c\n",
       " 4    NaN\n",
       " 5    NaN\n",
       " dtype: object,\n",
       " 1    NaN\n",
       " 2      e\n",
       " 3      f\n",
       " 4      g\n",
       " 5      h\n",
       " dtype: object)"
      ]
     },
     "execution_count": 62,
     "metadata": {},
     "output_type": "execute_result"
    }
   ],
   "source": [
    "# 默认全外连接，返回一个元组对象，可以看到根据行标签对其，全外连接后没有的行标签就是空值\n",
    "s9 = pd.Series(['a', 'b', 'c'], index=[1, 2, 3])\n",
    "s10 = pd.Series(['e', 'f', 'g', 'h'], index=[2, 3, 4, 5])\n",
    "s9.align(s10)"
   ]
  },
  {
   "cell_type": "code",
   "execution_count": 63,
   "id": "2f99924d",
   "metadata": {},
   "outputs": [
    {
     "data": {
      "text/plain": [
       "(1    a\n",
       " 2    b\n",
       " 3    c\n",
       " dtype: object,\n",
       " 1    NaN\n",
       " 2      e\n",
       " 3      f\n",
       " dtype: object)"
      ]
     },
     "execution_count": 63,
     "metadata": {},
     "output_type": "execute_result"
    }
   ],
   "source": [
    "# 左连接\n",
    "s9.align(s10, join='left')"
   ]
  },
  {
   "cell_type": "code",
   "execution_count": 64,
   "id": "b4a78734",
   "metadata": {},
   "outputs": [
    {
     "data": {
      "text/plain": [
       "(2    b\n",
       " 3    c\n",
       " dtype: object,\n",
       " 2    e\n",
       " 3    f\n",
       " dtype: object)"
      ]
     },
     "execution_count": 64,
     "metadata": {},
     "output_type": "execute_result"
    }
   ],
   "source": [
    "# 内连接\n",
    "s9.align(s10, join='inner')"
   ]
  },
  {
   "cell_type": "code",
   "execution_count": 65,
   "id": "037ae026",
   "metadata": {},
   "outputs": [
    {
     "data": {
      "text/plain": [
       "(1       a\n",
       " 2       b\n",
       " 3       c\n",
       " 4    fill\n",
       " 5    fill\n",
       " dtype: object,\n",
       " 1    fill\n",
       " 2       e\n",
       " 3       f\n",
       " 4       g\n",
       " 5       h\n",
       " dtype: object)"
      ]
     },
     "execution_count": 65,
     "metadata": {},
     "output_type": "execute_result"
    }
   ],
   "source": [
    "# 需要注意的是，如果使用fill_value参数，那么填充的值的数据类型需要与其他数据的数据类型一致\n",
    "s9.align(s10, join='outer', fill_value='fill')"
   ]
  },
  {
   "cell_type": "code",
   "execution_count": 66,
   "id": "af5d2557",
   "metadata": {},
   "outputs": [
    {
     "data": {
      "text/plain": [
       "(1      a\n",
       " 2      b\n",
       " 3      c\n",
       " 4    NaN\n",
       " 5    NaN\n",
       " dtype: object,\n",
       " 1    e\n",
       " 2    e\n",
       " 3    f\n",
       " 4    g\n",
       " 5    h\n",
       " dtype: object)"
      ]
     },
     "execution_count": 66,
     "metadata": {},
     "output_type": "execute_result"
    }
   ],
   "source": [
    "# method参数是pandas.Series.align函数的一个重要参数，它决定了对齐的方式。它接受以下可选值：\n",
    "\n",
    "# 'backfill'：使用后面的值对前面的缺失值进行填充。\n",
    "# 'bfill'：同'backfill'。\n",
    "# 'pad'：使用前面的值对后面的缺失值进行填充。\n",
    "# 'ffill'：同'pad'。\n",
    "# None：以上方法都不使用，缺失值会被丢弃\n",
    "\n",
    "s9.align(s10, method='bfill')"
   ]
  },
  {
   "cell_type": "code",
   "execution_count": 67,
   "id": "6974abd6",
   "metadata": {},
   "outputs": [
    {
     "data": {
      "text/plain": [
       "(1      a\n",
       " 2      b\n",
       " 3      c\n",
       " 4      c\n",
       " 5    NaN\n",
       " dtype: object,\n",
       " 1    NaN\n",
       " 2      e\n",
       " 3      f\n",
       " 4      g\n",
       " 5      h\n",
       " dtype: object)"
      ]
     },
     "execution_count": 67,
     "metadata": {},
     "output_type": "execute_result"
    }
   ],
   "source": [
    "# limit参数是pandas.Series.align函数的一个重要参数，它决定了在使用method参数进行填充时，向前/后填充的最大数量。\n",
    "# 例如，如果将limit设为1，则在使用method='pad'时，只有第一个缺失值会被填充\n",
    "\n",
    "s9.align(s10, method='pad', limit=1)  # 可以看到只有第四行被填充了，第五行还是空值"
   ]
  },
  {
   "cell_type": "markdown",
   "id": "be3854c2",
   "metadata": {},
   "source": [
    "## Series.all()"
   ]
  },
  {
   "cell_type": "markdown",
   "id": "c92c0058",
   "metadata": {},
   "source": [
    "Series.all(axis=0, bool_only=None, skipna=True, level=None, **kwargs)"
   ]
  },
  {
   "cell_type": "markdown",
   "id": "a95da340",
   "metadata": {},
   "source": [
    "用于判断 Series 对象中的所有元素是否都为真（True）\n",
    "> axis：指定轴的方向，默认为 0,可以传入0或者index或者1或者columns或者None,如果是None,则判断整个DataFrame<br>\n",
    "bool_only：指定只考虑布尔值。对Series无效<br>\n",
    "skipna：是否跳过缺失值，默认为 True。pandas里空值实际上是被视为True的<br>\n",
    "level：指定处理的级别，对于非层次化索引的数据不起作用。该参数在1.3.0版本已经被弃用，请用groupby代替<br>\n",
    "\\**kwargs: 针对numpy才有用"
   ]
  },
  {
   "cell_type": "code",
   "execution_count": 68,
   "id": "9ac44d4b",
   "metadata": {},
   "outputs": [
    {
     "data": {
      "text/plain": [
       "False"
      ]
     },
     "execution_count": 68,
     "metadata": {},
     "output_type": "execute_result"
    }
   ],
   "source": [
    "pd.Series([True, False, True]).all()"
   ]
  },
  {
   "cell_type": "code",
   "execution_count": 69,
   "id": "72cd6f1b",
   "metadata": {},
   "outputs": [
    {
     "data": {
      "text/plain": [
       "True"
      ]
     },
     "execution_count": 69,
     "metadata": {},
     "output_type": "execute_result"
    }
   ],
   "source": [
    "# 由于空值被视为True，这里默认是忽略空值的，所以返回True\n",
    "pd.Series([True, True, np.NAN]).all()"
   ]
  },
  {
   "cell_type": "code",
   "execution_count": 70,
   "id": "c873ac36",
   "metadata": {},
   "outputs": [
    {
     "data": {
      "text/plain": [
       "True"
      ]
     },
     "execution_count": 70,
     "metadata": {},
     "output_type": "execute_result"
    }
   ],
   "source": [
    "# 由于空值被视为True，这里添加参数不忽略空值，返回的还是True\n",
    "pd.Series([True, True, np.NAN]).all(skipna=False)"
   ]
  },
  {
   "cell_type": "code",
   "execution_count": 71,
   "id": "f803b1bb",
   "metadata": {},
   "outputs": [
    {
     "data": {
      "text/plain": [
       "False"
      ]
     },
     "execution_count": 71,
     "metadata": {},
     "output_type": "execute_result"
    }
   ],
   "source": [
    "# 0被视为False\n",
    "pd.Series([0, 0, 1]).all()"
   ]
  },
  {
   "cell_type": "markdown",
   "id": "c43d6bd6",
   "metadata": {},
   "source": [
    "## Series.any()"
   ]
  },
  {
   "cell_type": "markdown",
   "id": "25e408f4",
   "metadata": {},
   "source": [
    "Series.any(axis=0,bool_only=None,skipna=True,level=None,\\*\\*kwargs)"
   ]
  },
  {
   "cell_type": "markdown",
   "id": "e6f791c4",
   "metadata": {},
   "source": [
    "用于判断一个 pandas 序列中是否存在非零元素。如果存在一个非零元素，则该方法返回 True；否则返回 False\n",
    "> axis：指定轴的方向，默认为 0,可以传入0或者index或者1或者columns或者None,如果是None,则判断整个DataFrame<br>\n",
    "bool_only：指定只考虑布尔值。对Series无效<br>\n",
    "skipna：是否跳过缺失值，默认为 True。pandas里空值实际上是被视为True的<br>\n",
    "level：指定处理的级别，对于非层次化索引的数据不起作用。该参数在1.3.0版本已经被弃用，请用groupby代替<br>\n",
    "\\**kwargs: 针对numpy才有用"
   ]
  },
  {
   "cell_type": "code",
   "execution_count": 72,
   "id": "6634dac8",
   "metadata": {},
   "outputs": [
    {
     "data": {
      "text/plain": [
       "True"
      ]
     },
     "execution_count": 72,
     "metadata": {},
     "output_type": "execute_result"
    }
   ],
   "source": [
    "# 有一个1，返回True\n",
    "pd.Series([1, 0, 0]).any()"
   ]
  },
  {
   "cell_type": "code",
   "execution_count": 73,
   "id": "8d94352a",
   "metadata": {},
   "outputs": [
    {
     "data": {
      "text/plain": [
       "False"
      ]
     },
     "execution_count": 73,
     "metadata": {},
     "output_type": "execute_result"
    }
   ],
   "source": [
    "# 全是0，返回False\n",
    "pd.Series([0, 0, 0]).any()"
   ]
  },
  {
   "cell_type": "code",
   "execution_count": 74,
   "id": "745617ee",
   "metadata": {},
   "outputs": [
    {
     "data": {
      "text/plain": [
       "False"
      ]
     },
     "execution_count": 74,
     "metadata": {},
     "output_type": "execute_result"
    }
   ],
   "source": [
    "# 由于空值被视为True，这里默认是忽略空值的，所以返回Fasle\n",
    "pd.Series([np.NAN, False, False]).any()"
   ]
  },
  {
   "cell_type": "code",
   "execution_count": 75,
   "id": "28dfe487",
   "metadata": {},
   "outputs": [
    {
     "data": {
      "text/plain": [
       "True"
      ]
     },
     "execution_count": 75,
     "metadata": {},
     "output_type": "execute_result"
    }
   ],
   "source": [
    "# 由于空值被视为True，这里添加参数不忽略空值，此时返回的就是True\n",
    "pd.Series([np.NAN, False, False]).any(skipna=False)"
   ]
  },
  {
   "cell_type": "markdown",
   "id": "b938ba4b",
   "metadata": {},
   "source": [
    "## Series.append()"
   ]
  },
  {
   "cell_type": "markdown",
   "id": "c304f612",
   "metadata": {},
   "source": [
    "Series.append(to_append, ignore_index=False, verify_integrity=False)<br>\n",
    "从版本1.4.0开始就不推荐使用: 改为使用 concat ()"
   ]
  },
  {
   "cell_type": "markdown",
   "id": "97757412",
   "metadata": {},
   "source": [
    "## Series.apply()"
   ]
  },
  {
   "cell_type": "markdown",
   "id": "93d63e7a",
   "metadata": {},
   "source": [
    "Series.apply(func, convert_dtype=True, args=(), \\*\\*kwargs)"
   ]
  },
  {
   "cell_type": "markdown",
   "id": "404d709a",
   "metadata": {},
   "source": [
    "对Series的每个值调用函数，可以是一个numpy函数或者是只有单个值参数的python函数，返回series后者datafrme对象，如果函数传入的是series，则返回dataframe\n",
    "> func：要应用的函数。<br>\n",
    "convert_dtype：可选参数，用于指示是否强制类型转换。默认值为 True。<br>\n",
    "args：可选参数，以元组形式作为额外的参数传递给函数。<br>\n",
    "\\*\\*kwargs：可选参数，以字典形式作为额外的参数传递给函数。<br>"
   ]
  },
  {
   "cell_type": "code",
   "execution_count": 76,
   "id": "794ff874",
   "metadata": {},
   "outputs": [
    {
     "data": {
      "text/plain": [
       "0    1.0\n",
       "1    2.0\n",
       "2    3.0\n",
       "dtype: float64"
      ]
     },
     "execution_count": 76,
     "metadata": {},
     "output_type": "execute_result"
    }
   ],
   "source": [
    "# 传入numpy函数\n",
    "pd.Series([1, 4, 9]).apply(np.sqrt)"
   ]
  },
  {
   "cell_type": "code",
   "execution_count": 77,
   "id": "53ca65d3",
   "metadata": {},
   "outputs": [
    {
     "data": {
      "text/plain": [
       "0     1\n",
       "1    16\n",
       "2    81\n",
       "dtype: int64"
      ]
     },
     "execution_count": 77,
     "metadata": {},
     "output_type": "execute_result"
    }
   ],
   "source": [
    "# 传入自定义函数\n",
    "def custom_apply_series_1(x):\n",
    "    return x**2\n",
    "\n",
    "pd.Series([1, 4, 9]).apply(custom_apply_series_1)"
   ]
  },
  {
   "cell_type": "code",
   "execution_count": 78,
   "id": "6a4d432f",
   "metadata": {},
   "outputs": [
    {
     "data": {
      "text/plain": [
       "0     1\n",
       "1    16\n",
       "2    81\n",
       "dtype: int64"
      ]
     },
     "execution_count": 78,
     "metadata": {},
     "output_type": "execute_result"
    }
   ],
   "source": [
    "# 传入匿名函数\n",
    "pd.Series([1, 4, 9]).apply(lambda x: x**2)"
   ]
  },
  {
   "cell_type": "code",
   "execution_count": 79,
   "id": "d037d2a2",
   "metadata": {},
   "outputs": [
    {
     "data": {
      "text/plain": [
       "0    31\n",
       "1    34\n",
       "2    39\n",
       "dtype: int64"
      ]
     },
     "execution_count": 79,
     "metadata": {},
     "output_type": "execute_result"
    }
   ],
   "source": [
    "# 以元组形式传入args参数\n",
    "def custom_apply_series_2(x, a, b):\n",
    "    return x + a + b\n",
    "\n",
    "pd.Series([1, 4, 9]).apply(custom_apply_series_2, args=(10, 20))"
   ]
  },
  {
   "cell_type": "code",
   "execution_count": 80,
   "id": "8abdcb4f",
   "metadata": {},
   "outputs": [
    {
     "data": {
      "text/plain": [
       "0    11\n",
       "1    14\n",
       "2    19\n",
       "dtype: int64"
      ]
     },
     "execution_count": 80,
     "metadata": {},
     "output_type": "execute_result"
    }
   ],
   "source": [
    "def custom_apply_series_2(x, a):\n",
    "    return x + a\n",
    "\n",
    "pd.Series([1, 4, 9]).apply(custom_apply_series_2, args=(10,))"
   ]
  },
  {
   "cell_type": "code",
   "execution_count": 81,
   "id": "b9235dd9",
   "metadata": {},
   "outputs": [
    {
     "data": {
      "text/plain": [
       "0    31\n",
       "1    34\n",
       "2    39\n",
       "dtype: int64"
      ]
     },
     "execution_count": 81,
     "metadata": {},
     "output_type": "execute_result"
    }
   ],
   "source": [
    "# **kwargs参数用法\n",
    "def custom_apply_series_3(x, **kwargs):\n",
    "    for key in kwargs:\n",
    "        x += kwargs[key]\n",
    "    return x\n",
    "\n",
    "pd.Series([1, 4, 9]).apply(custom_apply_series_3, add_x=10, add_y=20)"
   ]
  },
  {
   "cell_type": "code",
   "execution_count": 82,
   "id": "794a1f9b",
   "metadata": {},
   "outputs": [
    {
     "data": {
      "text/plain": [
       "0     2.0\n",
       "1     4.0\n",
       "2     6.0\n",
       "3     8.0\n",
       "4    10.0\n",
       "dtype: float64"
      ]
     },
     "execution_count": 82,
     "metadata": {},
     "output_type": "execute_result"
    }
   ],
   "source": [
    "# 参数convert_dtype的用法，自定义函数将整数转换为了浮点数，返回的也是浮点数\n",
    "def custom_apply_series_4(x):\n",
    "    return float(x * 2)\n",
    "\n",
    "pd.Series([1, 2, 3, 4, 5]).apply(custom_apply_series_4)"
   ]
  },
  {
   "cell_type": "code",
   "execution_count": 83,
   "id": "623fe892",
   "metadata": {},
   "outputs": [
    {
     "data": {
      "text/plain": [
       "0     2.0\n",
       "1     4.0\n",
       "2     6.0\n",
       "3     8.0\n",
       "4    10.0\n",
       "dtype: object"
      ]
     },
     "execution_count": 83,
     "metadata": {},
     "output_type": "execute_result"
    }
   ],
   "source": [
    "# 此时将convert_dtype参数设为False，返回的数据类型就是object了，一般不改变这个参数，默认为True就行\n",
    "pd.Series([1, 2, 3, 4, 5]).apply(custom_apply_series_4, convert_dtype=False)"
   ]
  },
  {
   "cell_type": "markdown",
   "id": "b6b6b3cf",
   "metadata": {},
   "source": [
    "## Series.argmax()"
   ]
  },
  {
   "cell_type": "markdown",
   "id": "f40b0404",
   "metadata": {},
   "source": [
    "Series.argmax(axis=None, skipna=True, \\*args, \\*\\*kwargs)"
   ]
  },
  {
   "cell_type": "markdown",
   "id": "03ec56dd",
   "metadata": {},
   "source": [
    "返回元素最大值的位置，如果有相同最大值，则返回最小位置那一个\n",
    "> axis：沿着其进行操作的轴，可以是 0（行）或 1（列）。默认值为 0，即对整个系列进行操作。只对dataframe有用<br>\n",
    "skipna：是否跳过缺失值，如果设置为 True，则忽略缺失值；如果设置为 False，则返回缺失值的索引。默认值为 True。<br>\n",
    "args：可变的额外参数，用于传递额外的参数，只兼容numpy函数。<br>\n",
    "kwargs：关键字参数，用于传递额外的关键字参数，只兼容numpy函数。"
   ]
  },
  {
   "cell_type": "code",
   "execution_count": 84,
   "id": "881421e5",
   "metadata": {},
   "outputs": [
    {
     "data": {
      "text/plain": [
       "-1"
      ]
     },
     "execution_count": 84,
     "metadata": {},
     "output_type": "execute_result"
    }
   ],
   "source": [
    "# 当有空值，且不跳过空值的时候,返回的永远都是-1\n",
    "pd.Series([1, np.NAN, 3, 2]).argmax(skipna=False)"
   ]
  },
  {
   "cell_type": "markdown",
   "id": "66a52ebf",
   "metadata": {},
   "source": [
    "## Series.argmin()"
   ]
  },
  {
   "cell_type": "markdown",
   "id": "e7f2c66d",
   "metadata": {},
   "source": [
    "Series.argmin(axis=None, skipna=True, \\*args, \\*\\*kwargs)"
   ]
  },
  {
   "cell_type": "markdown",
   "id": "f402e7c6",
   "metadata": {},
   "source": [
    "返回元素最小值的位置，如果有相同最小值，则返回最小位置那一个，用法同argmax一样"
   ]
  },
  {
   "cell_type": "markdown",
   "id": "41b432d1",
   "metadata": {},
   "source": [
    "## Series.argsort()"
   ]
  },
  {
   "cell_type": "markdown",
   "id": "96f48d6e",
   "metadata": {},
   "source": [
    "Series.argsort(axis=0, kind='quicksort', order=None)"
   ]
  },
  {
   "cell_type": "markdown",
   "id": "27a0619b",
   "metadata": {},
   "source": [
    "对Pandas Series数据结构中的数据进行排序，并返回排序后数据的索引，如果遇到空值，会将空值按原索引位置不变的展示出来，并显示-1\n",
    "> axis：沿着其进行操作的轴，可以是 0（行）或 1（列）。默认值为 0，即对整个系列进行操作。只对dataframe有用<br>\n",
    "kind：排序算法，不用太深究，用默认的就好<br>\n",
    "order：已经不用了。"
   ]
  },
  {
   "cell_type": "code",
   "execution_count": 85,
   "id": "51bb6820",
   "metadata": {},
   "outputs": [
    {
     "data": {
      "text/plain": [
       "a    0\n",
       "b    2\n",
       "c    1\n",
       "d    3\n",
       "dtype: int64"
      ]
     },
     "execution_count": 85,
     "metadata": {},
     "output_type": "execute_result"
    }
   ],
   "source": [
    "# 可以看到返回的新series对象的索引没有任何变化，而里面的元素就是原series元素从小到大排序后，对应的原索引位置\n",
    "pd.Series([1, 3, 2, 4], index=['a', 'b', 'c', 'd']).argsort()"
   ]
  },
  {
   "cell_type": "code",
   "execution_count": 86,
   "id": "908d1ef1",
   "metadata": {},
   "outputs": [
    {
     "data": {
      "text/plain": [
       "a    0\n",
       "b    2\n",
       "c    1\n",
       "d   -1\n",
       "e    3\n",
       "dtype: int64"
      ]
     },
     "execution_count": 86,
     "metadata": {},
     "output_type": "execute_result"
    }
   ],
   "source": [
    "# 存在空值时，可以看到空值对应的值为-1，且位置没有变化\n",
    "pd.Series([1, 3, 2, None, 4], index=['a', 'b', 'c', 'd', 'e']).argsort()"
   ]
  },
  {
   "cell_type": "markdown",
   "id": "826c9aea",
   "metadata": {},
   "source": [
    "## Series.asfreq()"
   ]
  },
  {
   "cell_type": "markdown",
   "id": "074abfff",
   "metadata": {},
   "source": [
    "Series.asfreq(freq, method=None, how=None, normalize=False, fill_value=None)"
   ]
  },
  {
   "cell_type": "markdown",
   "id": "8a46034f",
   "metadata": {},
   "source": [
    "用于将时间序列重新采样到指定的频率，它有以下参数：\n",
    "> freq: 必需参数，表示重新采样的频率，可以是一个字符串别名（如 'D' 表示日频率）或一个 pandas.DateOffset 对象<br>\n",
    "method: 可选参数，表示重新采样时需要执行的操作，比如 'ffill/pad' 或 'bfill/backfill'。默认值为 None<br>\n",
    "how: 可选参数，只用于PeriodIndex对象，请在PeriodIndex.asfreq那里查看使用方法<br>\n",
    "normalize: 可选参数，表示是否将时间戳规范化为零点。默认值为 False，表示不规范化。<br>\n",
    "fill_value: 可选参数，表示用于填充缺失值的值。默认值为 None，表示使用前向填充或后向填充的值。"
   ]
  },
  {
   "cell_type": "code",
   "execution_count": 87,
   "id": "4a7b9502",
   "metadata": {
    "scrolled": false
   },
   "outputs": [
    {
     "data": {
      "text/plain": [
       "DatetimeIndex(['2023-01-01', '2023-01-02', '2023-01-03'], dtype='datetime64[ns]', freq='D')"
      ]
     },
     "execution_count": 87,
     "metadata": {},
     "output_type": "execute_result"
    }
   ],
   "source": [
    "# 先生成一个时间序列索引\n",
    "index_asfreq = pd.date_range('2023-01-01', '2023-01-03', freq='d')\n",
    "index_asfreq"
   ]
  },
  {
   "cell_type": "code",
   "execution_count": 88,
   "id": "045fb981",
   "metadata": {},
   "outputs": [
    {
     "data": {
      "text/plain": [
       "2023-01-01 00:00:00    0.0\n",
       "2023-01-01 04:00:00    NaN\n",
       "2023-01-01 08:00:00    NaN\n",
       "2023-01-01 12:00:00    NaN\n",
       "2023-01-01 16:00:00    NaN\n",
       "2023-01-01 20:00:00    NaN\n",
       "2023-01-02 00:00:00    1.0\n",
       "2023-01-02 04:00:00    NaN\n",
       "2023-01-02 08:00:00    NaN\n",
       "2023-01-02 12:00:00    NaN\n",
       "2023-01-02 16:00:00    NaN\n",
       "2023-01-02 20:00:00    NaN\n",
       "2023-01-03 00:00:00    2.0\n",
       "Freq: 4H, dtype: float64"
      ]
     },
     "execution_count": 88,
     "metadata": {},
     "output_type": "execute_result"
    }
   ],
   "source": [
    "# 将时间序列按没4小时扩展,freq参数的offset用法待后面学习了再回来完善。这里可以看到，扩展后没有的时间后面对应的值为空值\n",
    "pd.Series(range(len(index_asfreq)), index=index_asfreq).asfreq('4H')"
   ]
  },
  {
   "cell_type": "code",
   "execution_count": 94,
   "id": "d26039f1",
   "metadata": {},
   "outputs": [
    {
     "data": {
      "text/plain": [
       "2023-01-01 00:00:00    0\n",
       "2023-01-01 04:00:00    0\n",
       "2023-01-01 08:00:00    0\n",
       "2023-01-01 12:00:00    0\n",
       "2023-01-01 16:00:00    0\n",
       "2023-01-01 20:00:00    0\n",
       "2023-01-02 00:00:00    1\n",
       "2023-01-02 04:00:00    1\n",
       "2023-01-02 08:00:00    1\n",
       "2023-01-02 12:00:00    1\n",
       "2023-01-02 16:00:00    1\n",
       "2023-01-02 20:00:00    1\n",
       "2023-01-03 00:00:00    2\n",
       "Freq: 4H, dtype: int64"
      ]
     },
     "execution_count": 94,
     "metadata": {},
     "output_type": "execute_result"
    }
   ],
   "source": [
    "# method参数用于提供给空值的填充方式\n",
    "pd.Series(range(len(index_asfreq)), index=index_asfreq).asfreq('4H', method='pad')  # 用空值前面的值填充"
   ]
  },
  {
   "cell_type": "code",
   "execution_count": 90,
   "id": "67803fd9",
   "metadata": {},
   "outputs": [
    {
     "data": {
      "text/plain": [
       "2023-01-01 00:00:00    0\n",
       "2023-01-01 04:00:00    1\n",
       "2023-01-01 08:00:00    1\n",
       "2023-01-01 12:00:00    1\n",
       "2023-01-01 16:00:00    1\n",
       "2023-01-01 20:00:00    1\n",
       "2023-01-02 00:00:00    1\n",
       "2023-01-02 04:00:00    2\n",
       "2023-01-02 08:00:00    2\n",
       "2023-01-02 12:00:00    2\n",
       "2023-01-02 16:00:00    2\n",
       "2023-01-02 20:00:00    2\n",
       "2023-01-03 00:00:00    2\n",
       "Freq: 4H, dtype: int64"
      ]
     },
     "execution_count": 90,
     "metadata": {},
     "output_type": "execute_result"
    }
   ],
   "source": [
    "pd.Series(range(len(index_asfreq)), index=index_asfreq).asfreq('4H', method='bfill') # 用空值后面的值填充"
   ]
  },
  {
   "cell_type": "code",
   "execution_count": 96,
   "id": "a7fbc66a",
   "metadata": {},
   "outputs": [
    {
     "data": {
      "text/plain": [
       "2023-01-01    0.0\n",
       "2023-01-01    NaN\n",
       "2023-01-01    NaN\n",
       "2023-01-01    NaN\n",
       "2023-01-01    NaN\n",
       "2023-01-01    NaN\n",
       "2023-01-02    1.0\n",
       "2023-01-02    NaN\n",
       "2023-01-02    NaN\n",
       "2023-01-02    NaN\n",
       "2023-01-02    NaN\n",
       "2023-01-02    NaN\n",
       "2023-01-03    2.0\n",
       "dtype: float64"
      ]
     },
     "execution_count": 96,
     "metadata": {},
     "output_type": "execute_result"
    }
   ],
   "source": [
    "# normalize参数就是将日期全部变成了零点\n",
    "pd.Series(range(len(index_asfreq)), index=index_asfreq).asfreq('4H', normalize=True)"
   ]
  },
  {
   "cell_type": "code",
   "execution_count": 98,
   "id": "6a6ba8e8",
   "metadata": {},
   "outputs": [
    {
     "data": {
      "text/plain": [
       "2023-01-01 00:00:00    0\n",
       "2023-01-01 04:00:00    0\n",
       "2023-01-01 08:00:00    0\n",
       "2023-01-01 12:00:00    0\n",
       "2023-01-01 16:00:00    0\n",
       "2023-01-01 20:00:00    0\n",
       "2023-01-02 00:00:00    1\n",
       "2023-01-02 04:00:00    1\n",
       "2023-01-02 08:00:00    1\n",
       "2023-01-02 12:00:00    1\n",
       "2023-01-02 16:00:00    1\n",
       "2023-01-02 20:00:00    1\n",
       "2023-01-03 00:00:00    2\n",
       "Freq: 4H, dtype: int64"
      ]
     },
     "execution_count": 98,
     "metadata": {},
     "output_type": "execute_result"
    }
   ],
   "source": [
    "# fill_value就是给空值填充的值，如果已经有了method参数，fill_value会无效的\n",
    "\n",
    "# 可以看到这里虽然要将空值填充为100，但是因为指定了method方法，所以还是按method方法填充的\n",
    "pd.Series(range(len(index_asfreq)), index=index_asfreq).asfreq('4H', fill_value=100, method='pad')  "
   ]
  },
  {
   "cell_type": "markdown",
   "id": "082fd8ea",
   "metadata": {},
   "source": [
    "## Series.asof()"
   ]
  },
  {
   "cell_type": "markdown",
   "id": "f02e852b",
   "metadata": {},
   "source": [
    "Series.asof(where, subset=None)"
   ]
  },
  {
   "cell_type": "code",
   "execution_count": null,
   "id": "9681e416",
   "metadata": {},
   "outputs": [],
   "source": []
  }
 ],
 "metadata": {
  "kernelspec": {
   "display_name": "Python 3 (ipykernel)",
   "language": "python",
   "name": "python3"
  },
  "language_info": {
   "codemirror_mode": {
    "name": "ipython",
    "version": 3
   },
   "file_extension": ".py",
   "mimetype": "text/x-python",
   "name": "python",
   "nbconvert_exporter": "python",
   "pygments_lexer": "ipython3",
   "version": "3.9.7"
  },
  "toc": {
   "base_numbering": 1,
   "nav_menu": {},
   "number_sections": true,
   "sideBar": true,
   "skip_h1_title": false,
   "title_cell": "Table of Contents",
   "title_sidebar": "Contents",
   "toc_cell": false,
   "toc_position": {
    "height": "calc(100% - 180px)",
    "left": "10px",
    "top": "150px",
    "width": "212px"
   },
   "toc_section_display": true,
   "toc_window_display": true
  }
 },
 "nbformat": 4,
 "nbformat_minor": 5
}
