{
 "cells": [
  {
   "cell_type": "markdown",
   "id": "f9b512b6",
   "metadata": {},
   "source": [
    "# Series的属性"
   ]
  },
  {
   "cell_type": "code",
   "execution_count": 1,
   "id": "6c97203f",
   "metadata": {},
   "outputs": [],
   "source": [
    "import pandas as pd\n",
    "import numpy as np"
   ]
  },
  {
   "cell_type": "markdown",
   "id": "dba47905",
   "metadata": {},
   "source": [
    "## Series.T"
   ]
  },
  {
   "cell_type": "markdown",
   "id": "09e86fe0",
   "metadata": {},
   "source": [
    "转置Series对象，转置后还是它自己，这个属性没什么用"
   ]
  },
  {
   "cell_type": "code",
   "execution_count": 2,
   "id": "24708a48",
   "metadata": {},
   "outputs": [
    {
     "data": {
      "text/plain": [
       "0    a\n",
       "1    b\n",
       "2    c\n",
       "dtype: object"
      ]
     },
     "execution_count": 2,
     "metadata": {},
     "output_type": "execute_result"
    }
   ],
   "source": [
    "s1 = pd.Series(['a', 'b', 'c'])\n",
    "s1"
   ]
  },
  {
   "cell_type": "code",
   "execution_count": 3,
   "id": "66ceb3ec",
   "metadata": {
    "scrolled": true
   },
   "outputs": [
    {
     "data": {
      "text/plain": [
       "0    a\n",
       "1    b\n",
       "2    c\n",
       "dtype: object"
      ]
     },
     "execution_count": 3,
     "metadata": {},
     "output_type": "execute_result"
    }
   ],
   "source": [
    "s1.T"
   ]
  },
  {
   "cell_type": "markdown",
   "id": "4be027f6",
   "metadata": {},
   "source": [
    "## Series.array"
   ]
  },
  {
   "cell_type": "markdown",
   "id": "637b4bb5",
   "metadata": {},
   "source": [
    "返回的是ExtensionArray对象，ExtensionArray是Pandas库中的一种数据类型，用于存储特殊类型的数据，如日期、字符串等。它扩展了pandas的数据结构，并且提供了比其他数据类型更高的性能和效率。这里其实就是pandas的一种特有数据类型，如果想把series对象完全转化为numpy数组，得用Series.numpy()"
   ]
  },
  {
   "cell_type": "code",
   "execution_count": 4,
   "id": "2a8fb0ff",
   "metadata": {},
   "outputs": [
    {
     "data": {
      "text/plain": [
       "<PandasArray>\n",
       "['a', 'b', 'c']\n",
       "Length: 3, dtype: object"
      ]
     },
     "execution_count": 4,
     "metadata": {},
     "output_type": "execute_result"
    }
   ],
   "source": [
    "# 这里显示的就是PandasArray对象\n",
    "s1.array"
   ]
  },
  {
   "cell_type": "markdown",
   "id": "184def35",
   "metadata": {},
   "source": [
    "## Series.at"
   ]
  },
  {
   "cell_type": "markdown",
   "id": "b3b7f011",
   "metadata": {},
   "source": [
    "用于单个值的获取或者替换时速度比用iloc快，它也就只有这一个用处了，用处不大，只能针对单个的值，而且它接受的是索引标签，而不是索引位置，区别与Series.iat接受的是整数索引位置，类似于loc和iloc的区别"
   ]
  },
  {
   "cell_type": "code",
   "execution_count": 5,
   "id": "7e399fad",
   "metadata": {},
   "outputs": [
    {
     "data": {
      "text/plain": [
       "'b'"
      ]
     },
     "execution_count": 5,
     "metadata": {},
     "output_type": "execute_result"
    }
   ],
   "source": [
    "s1.at[1]"
   ]
  },
  {
   "cell_type": "markdown",
   "id": "e424ab33",
   "metadata": {},
   "source": [
    "## Series.attrs"
   ]
  },
  {
   "cell_type": "markdown",
   "id": "043784a4",
   "metadata": {},
   "source": [
    "返回的是一个字典对象，\"Series.attrs\"是pandas中的一个属性，它允许用户为pandas Series对象附加元数据（键/值对）。"
   ]
  },
  {
   "cell_type": "code",
   "execution_count": 6,
   "id": "80d427f8",
   "metadata": {},
   "outputs": [
    {
     "data": {
      "text/plain": [
       "'forstdu'"
      ]
     },
     "execution_count": 6,
     "metadata": {},
     "output_type": "execute_result"
    }
   ],
   "source": [
    "# 使用\"attrs\"属性附加元数据：\n",
    "s1.attrs[\"duke\"] = \"forstdu\"\n",
    "# 现在已经附加了键值对信息\n",
    "s1.attrs['duke']"
   ]
  },
  {
   "cell_type": "code",
   "execution_count": 7,
   "id": "db2b281b",
   "metadata": {},
   "outputs": [
    {
     "data": {
      "text/plain": [
       "{'duke': 'forstdu'}"
      ]
     },
     "execution_count": 7,
     "metadata": {},
     "output_type": "execute_result"
    }
   ],
   "source": [
    "# 这时候再来查看附加的属性，返回的是一个字典对象\n",
    "s1.attrs"
   ]
  },
  {
   "cell_type": "markdown",
   "id": "2791e1cf",
   "metadata": {},
   "source": [
    "## Series.axes"
   ]
  },
  {
   "cell_type": "markdown",
   "id": "40416bb2",
   "metadata": {},
   "source": [
    "返回行标签的列表,这个列表里只有一个元素，元素对象是RangeIndex,与Series.index的区别的就是index属性返回的直接就是RangeIndex对象，而不是一个列表"
   ]
  },
  {
   "cell_type": "code",
   "execution_count": 8,
   "id": "d591c0a5",
   "metadata": {},
   "outputs": [
    {
     "data": {
      "text/plain": [
       "[RangeIndex(start=0, stop=3, step=1)]"
      ]
     },
     "execution_count": 8,
     "metadata": {},
     "output_type": "execute_result"
    }
   ],
   "source": [
    "s1.axes"
   ]
  },
  {
   "cell_type": "markdown",
   "id": "f27efd48",
   "metadata": {},
   "source": [
    "## Series.dtype"
   ]
  },
  {
   "cell_type": "markdown",
   "id": "712dcb14",
   "metadata": {},
   "source": [
    "Series.dtype\"是pandas中的一个属性，用于表示pandas的\"Series\"数据结构中数据的数据类型（如int64, float64, object等），这是老版本的用法，新版本已经用Series.dtypes代替"
   ]
  },
  {
   "cell_type": "code",
   "execution_count": 9,
   "id": "8eb3e8fb",
   "metadata": {},
   "outputs": [
    {
     "data": {
      "text/plain": [
       "dtype('O')"
      ]
     },
     "execution_count": 9,
     "metadata": {},
     "output_type": "execute_result"
    }
   ],
   "source": [
    "# \"dtype('O')\"是pandas中的数据类型，表示Python的\"object\"类型，通常用于存储任意类型的数据（例如字符串、列表、字典等）\n",
    "s1.dtype"
   ]
  },
  {
   "cell_type": "markdown",
   "id": "61adc78a",
   "metadata": {},
   "source": [
    "## Series.dtypes"
   ]
  },
  {
   "cell_type": "markdown",
   "id": "368c9188",
   "metadata": {},
   "source": [
    "同上，这是新版的用法"
   ]
  },
  {
   "cell_type": "code",
   "execution_count": 10,
   "id": "472b44dd",
   "metadata": {},
   "outputs": [
    {
     "data": {
      "text/plain": [
       "dtype('O')"
      ]
     },
     "execution_count": 10,
     "metadata": {},
     "output_type": "execute_result"
    }
   ],
   "source": [
    "s1.dtypes"
   ]
  },
  {
   "cell_type": "markdown",
   "id": "bc48aade",
   "metadata": {},
   "source": [
    "## Series.flags"
   ]
  },
  {
   "cell_type": "markdown",
   "id": "76a34845",
   "metadata": {},
   "source": [
    "\"Series.flags\"是pandas中的一个属性，用于描述pandas的\"Series\"数据结构的内存状态，返回一个\"PandasBlockManager's Flags\"对象，该对象包含有关数据结构的内存状态的信息，如数据是否可以被写入或是否共享内存等。"
   ]
  },
  {
   "cell_type": "code",
   "execution_count": 11,
   "id": "99d0bd21",
   "metadata": {},
   "outputs": [
    {
     "data": {
      "text/plain": [
       "<Flags(allows_duplicate_labels=True)>"
      ]
     },
     "execution_count": 11,
     "metadata": {},
     "output_type": "execute_result"
    }
   ],
   "source": [
    "# \"allows_duplicate_labels=True\"是pandas中的一个参数，用于在创建pandas数据结构时允许标签重复。当该参数设置为\"True\"时，可以使用重复的标签，而当该参数设置为\"False\"时，不允许使用重复的标签。默认情况下，该参数的值为\"False\"，即不允许使用重复的标签。\n",
    "s1.flags"
   ]
  },
  {
   "cell_type": "markdown",
   "id": "6adf0ed5",
   "metadata": {},
   "source": [
    "## Series.hasnans"
   ]
  },
  {
   "cell_type": "markdown",
   "id": "dc7ec7a2",
   "metadata": {},
   "source": [
    "检查是否有缺失值，如果有，就返回Ture"
   ]
  },
  {
   "cell_type": "code",
   "execution_count": 12,
   "id": "0d93bd45",
   "metadata": {},
   "outputs": [
    {
     "data": {
      "text/plain": [
       "0       a\n",
       "1       b\n",
       "2    None\n",
       "3       c\n",
       "dtype: object"
      ]
     },
     "execution_count": 12,
     "metadata": {},
     "output_type": "execute_result"
    }
   ],
   "source": [
    "# 创建一个包含空值的Series对象\n",
    "s2 = pd.Series(['a', 'b', None, 'c'])\n",
    "s2"
   ]
  },
  {
   "cell_type": "code",
   "execution_count": 13,
   "id": "0fbceb45",
   "metadata": {},
   "outputs": [
    {
     "data": {
      "text/plain": [
       "True"
      ]
     },
     "execution_count": 13,
     "metadata": {},
     "output_type": "execute_result"
    }
   ],
   "source": [
    "# 检查是否有缺失值\n",
    "s2.hasnans"
   ]
  },
  {
   "cell_type": "markdown",
   "id": "4b75eafc",
   "metadata": {},
   "source": [
    "## Series.iat"
   ]
  },
  {
   "cell_type": "markdown",
   "id": "8e5bbfea",
   "metadata": {},
   "source": [
    "跟Series.at差不多，区别就是iloc和loc类似"
   ]
  },
  {
   "cell_type": "code",
   "execution_count": 14,
   "id": "ea1b32a1",
   "metadata": {},
   "outputs": [
    {
     "data": {
      "text/plain": [
       "'a'"
      ]
     },
     "execution_count": 14,
     "metadata": {},
     "output_type": "execute_result"
    }
   ],
   "source": [
    "s2.iat[0]"
   ]
  },
  {
   "cell_type": "markdown",
   "id": "89f149bb",
   "metadata": {},
   "source": [
    "## Series.iloc"
   ]
  },
  {
   "cell_type": "markdown",
   "id": "c847b764",
   "metadata": {},
   "source": [
    "传入单个的整数值，返回的是单个元素对象，传入位置列表，切片，布尔数组，元组返回的是一个新的series对象，还可以传入一个可调用函数,注意:这里的整数指的是标签的顺序位置，而不是标签名，比如行标签是[1,3,5],所对应的位置是[0,1,2]"
   ]
  },
  {
   "cell_type": "markdown",
   "id": "dde63a2e",
   "metadata": {},
   "source": [
    "### 传入单个整数"
   ]
  },
  {
   "cell_type": "code",
   "execution_count": 15,
   "id": "f6eff2e1",
   "metadata": {},
   "outputs": [
    {
     "data": {
      "text/plain": [
       "'c'"
      ]
     },
     "execution_count": 15,
     "metadata": {},
     "output_type": "execute_result"
    }
   ],
   "source": [
    "s3 = pd.Series([None, 'b', 'c', 'd', 'e'])\n",
    "s3.iloc[2]"
   ]
  },
  {
   "cell_type": "code",
   "execution_count": 16,
   "id": "89196bf6",
   "metadata": {},
   "outputs": [
    {
     "data": {
      "text/plain": [
       "str"
      ]
     },
     "execution_count": 16,
     "metadata": {},
     "output_type": "execute_result"
    }
   ],
   "source": [
    "# 此时返回的是一个字符串\n",
    "type(s3.iloc[2])"
   ]
  },
  {
   "cell_type": "code",
   "execution_count": 17,
   "id": "10c34633",
   "metadata": {},
   "outputs": [
    {
     "data": {
      "text/plain": [
       "'b'"
      ]
     },
     "execution_count": 17,
     "metadata": {},
     "output_type": "execute_result"
    }
   ],
   "source": [
    "# 这里可以看出输入的整数参数指的是行标签的位置，而不是指的行标签的数字\n",
    "pd.Series(['a', 'b', 'c'], index=[1, 3, 5]).iloc[1]"
   ]
  },
  {
   "cell_type": "markdown",
   "id": "4d98927c",
   "metadata": {},
   "source": [
    "### 传入整数列表或数组"
   ]
  },
  {
   "cell_type": "code",
   "execution_count": 18,
   "id": "f73d0956",
   "metadata": {},
   "outputs": [
    {
     "data": {
      "text/plain": [
       "0    None\n",
       "2       c\n",
       "dtype: object"
      ]
     },
     "execution_count": 18,
     "metadata": {},
     "output_type": "execute_result"
    }
   ],
   "source": [
    "# 传入一个列表[0, 2]\n",
    "s3.iloc[[0, 2]]"
   ]
  },
  {
   "cell_type": "code",
   "execution_count": 19,
   "id": "39e61bdd",
   "metadata": {},
   "outputs": [
    {
     "data": {
      "text/plain": [
       "pandas.core.series.Series"
      ]
     },
     "execution_count": 19,
     "metadata": {},
     "output_type": "execute_result"
    }
   ],
   "source": [
    "# 此时返回的是一个新的Series对象\n",
    "type(s3.iloc[[0, 2]])"
   ]
  },
  {
   "cell_type": "markdown",
   "id": "87fae3c6",
   "metadata": {},
   "source": [
    "### 传入一个切片"
   ]
  },
  {
   "cell_type": "code",
   "execution_count": 20,
   "id": "9583b20b",
   "metadata": {},
   "outputs": [
    {
     "data": {
      "text/plain": [
       "1    b\n",
       "2    c\n",
       "dtype: object"
      ]
     },
     "execution_count": 20,
     "metadata": {},
     "output_type": "execute_result"
    }
   ],
   "source": [
    "s3.iloc[1:3]"
   ]
  },
  {
   "cell_type": "markdown",
   "id": "be39bac9",
   "metadata": {},
   "source": [
    "### 传入一个布尔数组，注意：布尔数组的长度必须和Series长度一样"
   ]
  },
  {
   "cell_type": "code",
   "execution_count": 21,
   "id": "30d0c2a5",
   "metadata": {},
   "outputs": [
    {
     "data": {
      "text/plain": [
       "0    None\n",
       "1       b\n",
       "3       d\n",
       "dtype: object"
      ]
     },
     "execution_count": 21,
     "metadata": {},
     "output_type": "execute_result"
    }
   ],
   "source": [
    "# 只返回为True的地方\n",
    "s3.iloc[[True, True, False, True, False]]"
   ]
  },
  {
   "cell_type": "markdown",
   "id": "c3c47386",
   "metadata": {},
   "source": [
    "### 传入一个元组"
   ]
  },
  {
   "cell_type": "markdown",
   "id": "eb9da40a",
   "metadata": {},
   "source": [
    "这里Series只能用(1,)类型的元组，因为是一维的，元组参数更深入的用法看后面DataFrame里的用法"
   ]
  },
  {
   "cell_type": "code",
   "execution_count": 22,
   "id": "8c838996",
   "metadata": {},
   "outputs": [
    {
     "data": {
      "text/plain": [
       "'d'"
      ]
     },
     "execution_count": 22,
     "metadata": {},
     "output_type": "execute_result"
    }
   ],
   "source": [
    "s3.iloc[(3,)]"
   ]
  },
  {
   "cell_type": "markdown",
   "id": "09644f97",
   "metadata": {},
   "source": [
    "### 传入一个可调用函数"
   ]
  },
  {
   "cell_type": "markdown",
   "id": "0069579a",
   "metadata": {},
   "source": [
    "可调用函数可以用于对数据进行动态索引，比如对于满足特定条件的数据进行索引,比如下面的代码用于选出索引位置大于2的数据，记住这个动态的好处，有时候很有用"
   ]
  },
  {
   "cell_type": "code",
   "execution_count": 23,
   "id": "98b1f22f",
   "metadata": {},
   "outputs": [
    {
     "data": {
      "text/plain": [
       "3     5\n",
       "4     2\n",
       "5    88\n",
       "dtype: int64"
      ]
     },
     "execution_count": 23,
     "metadata": {},
     "output_type": "execute_result"
    }
   ],
   "source": [
    "pd.Series([10, 22, 13, 5, 2, 88]).iloc[lambda s: s.index > 2]"
   ]
  },
  {
   "cell_type": "markdown",
   "id": "47d385ae",
   "metadata": {},
   "source": [
    "### IndexError报错"
   ]
  },
  {
   "cell_type": "markdown",
   "id": "a6439444",
   "metadata": {},
   "source": [
    "如果传入的整数索引参数超过了Series的长度，就会报IndexError错误，切片例外，传入的切片范围是可以超过Series的长度的"
   ]
  },
  {
   "cell_type": "markdown",
   "id": "68dc2541",
   "metadata": {},
   "source": [
    "## Series.index"
   ]
  },
  {
   "cell_type": "markdown",
   "id": "2aded2d0",
   "metadata": {},
   "source": [
    "返回行标签对象RangeIndex"
   ]
  },
  {
   "cell_type": "code",
   "execution_count": 24,
   "id": "aaa5501e",
   "metadata": {},
   "outputs": [
    {
     "data": {
      "text/plain": [
       "RangeIndex(start=0, stop=5, step=1)"
      ]
     },
     "execution_count": 24,
     "metadata": {},
     "output_type": "execute_result"
    }
   ],
   "source": [
    "s3.index"
   ]
  },
  {
   "cell_type": "code",
   "execution_count": 25,
   "id": "e6ab5fbb",
   "metadata": {},
   "outputs": [
    {
     "data": {
      "text/plain": [
       "[0, 1, 2, 3, 4]"
      ]
     },
     "execution_count": 25,
     "metadata": {},
     "output_type": "execute_result"
    }
   ],
   "source": [
    "# 将Rangeindex对象转换为列表\n",
    "list(s3.index)"
   ]
  },
  {
   "cell_type": "markdown",
   "id": "8c054cf4",
   "metadata": {},
   "source": [
    "## Series.is_monotonic_decreasing"
   ]
  },
  {
   "cell_type": "markdown",
   "id": "f8912b29",
   "metadata": {},
   "source": [
    "返回布尔值，判断Series的值是否是单调递减"
   ]
  },
  {
   "cell_type": "code",
   "execution_count": 26,
   "id": "45cda5e0",
   "metadata": {},
   "outputs": [],
   "source": [
    "s4 = pd.Series(['c', 'b', 'a'])"
   ]
  },
  {
   "cell_type": "code",
   "execution_count": 27,
   "id": "5b4ed4fd",
   "metadata": {},
   "outputs": [
    {
     "data": {
      "text/plain": [
       "True"
      ]
     },
     "execution_count": 27,
     "metadata": {},
     "output_type": "execute_result"
    }
   ],
   "source": [
    "# 字母降序也能判断\n",
    "s4.is_monotonic_decreasing"
   ]
  },
  {
   "cell_type": "code",
   "execution_count": 28,
   "id": "bea42909",
   "metadata": {},
   "outputs": [
    {
     "data": {
      "text/plain": [
       "True"
      ]
     },
     "execution_count": 28,
     "metadata": {},
     "output_type": "execute_result"
    }
   ],
   "source": [
    "# 试一试有相同字母或者数字时会怎样,可以看到也是可以的\n",
    "pd.Series(['c', 'b', 'b', 'a']).is_monotonic_decreasing"
   ]
  },
  {
   "cell_type": "markdown",
   "id": "af4b9af8",
   "metadata": {},
   "source": [
    "## Series.is_monotonic_increasing"
   ]
  },
  {
   "cell_type": "markdown",
   "id": "b527bebb",
   "metadata": {},
   "source": [
    "同上，只是这是单调递增"
   ]
  },
  {
   "cell_type": "markdown",
   "id": "083ce7f6",
   "metadata": {},
   "source": [
    "## Series.is_unique"
   ]
  },
  {
   "cell_type": "markdown",
   "id": "4918402a",
   "metadata": {},
   "source": [
    "返回布尔值，判断Series的值是否都是唯一的"
   ]
  },
  {
   "cell_type": "code",
   "execution_count": 29,
   "id": "b9320828",
   "metadata": {},
   "outputs": [
    {
     "data": {
      "text/plain": [
       "False"
      ]
     },
     "execution_count": 29,
     "metadata": {},
     "output_type": "execute_result"
    }
   ],
   "source": [
    "pd.Series(['a', 'b', 'b']).is_unique"
   ]
  },
  {
   "cell_type": "code",
   "execution_count": 30,
   "id": "68376f28",
   "metadata": {},
   "outputs": [
    {
     "data": {
      "text/plain": [
       "False"
      ]
     },
     "execution_count": 30,
     "metadata": {},
     "output_type": "execute_result"
    }
   ],
   "source": [
    "# 缺失值重复也会判断为False\n",
    "pd.Series([None, None, 'a']).is_unique"
   ]
  },
  {
   "cell_type": "markdown",
   "id": "429da6dd",
   "metadata": {},
   "source": [
    "## Series.loc"
   ]
  },
  {
   "cell_type": "markdown",
   "id": "8b11b502",
   "metadata": {},
   "source": [
    "与Series.iloc类似,但是有细微区别，loc接受的是行标签的名，iloc是行标签的位置，而且loc切片时是首尾包含的，iloc和python语法一样，切片是不包含尾的"
   ]
  },
  {
   "cell_type": "markdown",
   "id": "cf16fd3f",
   "metadata": {},
   "source": [
    "### 传入一个行标签名"
   ]
  },
  {
   "cell_type": "code",
   "execution_count": 31,
   "id": "a837aba1",
   "metadata": {},
   "outputs": [
    {
     "data": {
      "text/plain": [
       "1"
      ]
     },
     "execution_count": 31,
     "metadata": {},
     "output_type": "execute_result"
    }
   ],
   "source": [
    "pd.Series([1, 2, 3], index=['a', 'b', 'c']).loc['a']"
   ]
  },
  {
   "cell_type": "code",
   "execution_count": 32,
   "id": "3b0cd978",
   "metadata": {},
   "outputs": [
    {
     "data": {
      "text/plain": [
       "'c'"
      ]
     },
     "execution_count": 32,
     "metadata": {},
     "output_type": "execute_result"
    }
   ],
   "source": [
    "# 这里就可以看出指的是行标签名\n",
    "pd.Series(['a', 'b', 'c'], index=[1, 2, 4]).loc[4]"
   ]
  },
  {
   "cell_type": "markdown",
   "id": "8aae0453",
   "metadata": {},
   "source": [
    "### 传入一个行标签名的列表或者数组"
   ]
  },
  {
   "cell_type": "code",
   "execution_count": 33,
   "id": "cefcd421",
   "metadata": {},
   "outputs": [
    {
     "data": {
      "text/plain": [
       "a    1\n",
       "c    3\n",
       "dtype: int64"
      ]
     },
     "execution_count": 33,
     "metadata": {},
     "output_type": "execute_result"
    }
   ],
   "source": [
    "pd.Series([1, 2, 3], index=['a', 'b', 'c']).loc[['a', 'c']]"
   ]
  },
  {
   "cell_type": "markdown",
   "id": "846e1c55",
   "metadata": {},
   "source": [
    "### 传入一个切片"
   ]
  },
  {
   "cell_type": "code",
   "execution_count": 34,
   "id": "c8a7a5e7",
   "metadata": {},
   "outputs": [
    {
     "data": {
      "text/plain": [
       "b    2\n",
       "c    3\n",
       "d    4\n",
       "dtype: int64"
      ]
     },
     "execution_count": 34,
     "metadata": {},
     "output_type": "execute_result"
    }
   ],
   "source": [
    "# 注意看这里的切片是包含尾部的\n",
    "pd.Series([1, 2, 3, 4], index=['a', 'b', 'c' ,'d']).loc['b':'d']"
   ]
  },
  {
   "cell_type": "markdown",
   "id": "5524a4ec",
   "metadata": {},
   "source": [
    "### 传入一个布尔数组，数组长度必须和Series长度一样"
   ]
  },
  {
   "cell_type": "code",
   "execution_count": 35,
   "id": "4d1d1fa8",
   "metadata": {},
   "outputs": [
    {
     "data": {
      "text/plain": [
       "a    1\n",
       "c    3\n",
       "dtype: int64"
      ]
     },
     "execution_count": 35,
     "metadata": {},
     "output_type": "execute_result"
    }
   ],
   "source": [
    "pd.Series([1, 2, 3, 4], index=['a', 'b', 'c' ,'d']).loc[[True, False, True, False]]"
   ]
  },
  {
   "cell_type": "markdown",
   "id": "920d846e",
   "metadata": {},
   "source": [
    "### 传入一个索引相同的布尔值Series对象"
   ]
  },
  {
   "cell_type": "markdown",
   "id": "c803a661",
   "metadata": {},
   "source": [
    "传入的Series对象值必须是布尔类型，且索引要和原Series索引一一对应，一摸一样，这样就会筛选出传入Series对象里位置为True的位置"
   ]
  },
  {
   "cell_type": "code",
   "execution_count": 36,
   "id": "d3a2f842",
   "metadata": {},
   "outputs": [
    {
     "data": {
      "text/plain": [
       "a    1\n",
       "c    5\n",
       "dtype: int64"
      ]
     },
     "execution_count": 36,
     "metadata": {},
     "output_type": "execute_result"
    }
   ],
   "source": [
    "# 两个index必须一样\n",
    "pd.Series([1, 3, 5], index=['a', 'b', 'c']).loc[pd.Series([True, False, True], index=['a', 'b', 'c'])]"
   ]
  },
  {
   "cell_type": "markdown",
   "id": "649ac987",
   "metadata": {},
   "source": [
    "### 传入一个索引对象"
   ]
  },
  {
   "cell_type": "markdown",
   "id": "63775339",
   "metadata": {},
   "source": [
    "传入的索引对象要在原Series的索引里才行"
   ]
  },
  {
   "cell_type": "code",
   "execution_count": 37,
   "id": "bab58ff6",
   "metadata": {},
   "outputs": [
    {
     "data": {
      "text/plain": [
       "index_name\n",
       "a    1\n",
       "c    5\n",
       "dtype: int64"
      ]
     },
     "execution_count": 37,
     "metadata": {},
     "output_type": "execute_result"
    }
   ],
   "source": [
    "pd.Series([1, 3, 5], index=['a', 'b', 'c']).loc[pd.Index(['a', 'c'], name='index_name')]"
   ]
  },
  {
   "cell_type": "markdown",
   "id": "307482c6",
   "metadata": {},
   "source": [
    "### 传入一个可调用函数"
   ]
  },
  {
   "cell_type": "markdown",
   "id": "78f8dd19",
   "metadata": {},
   "source": [
    "类似于iloc一样的使用"
   ]
  },
  {
   "cell_type": "code",
   "execution_count": 38,
   "id": "8d57affd",
   "metadata": {},
   "outputs": [
    {
     "data": {
      "text/plain": [
       "b    3\n",
       "dtype: int64"
      ]
     },
     "execution_count": 38,
     "metadata": {},
     "output_type": "execute_result"
    }
   ],
   "source": [
    "pd.Series([1, 3, 5], index=['a', 'b', 'c']).loc[lambda x: x.index=='b']"
   ]
  },
  {
   "cell_type": "markdown",
   "id": "5d1b0e53",
   "metadata": {},
   "source": [
    "## Series.name"
   ]
  },
  {
   "cell_type": "markdown",
   "id": "37e34a35",
   "metadata": {},
   "source": [
    "返回series对象的名字，如果是从DataFrame里取出来的Series，名字就是对应的该列列名"
   ]
  },
  {
   "cell_type": "code",
   "execution_count": 39,
   "id": "f172cfdc",
   "metadata": {},
   "outputs": [
    {
     "data": {
      "text/plain": [
       "0    a\n",
       "1    b\n",
       "2    c\n",
       "Name: my_series, dtype: object"
      ]
     },
     "execution_count": 39,
     "metadata": {},
     "output_type": "execute_result"
    }
   ],
   "source": [
    "# 可以在创建是添加名字，打印展示的时候就会显示出Name属性\n",
    "s5 = pd.Series(['a', 'b', 'c'], name='my_series')\n",
    "s5"
   ]
  },
  {
   "cell_type": "code",
   "execution_count": 40,
   "id": "54c0333c",
   "metadata": {},
   "outputs": [
    {
     "data": {
      "text/plain": [
       "'my_series'"
      ]
     },
     "execution_count": 40,
     "metadata": {},
     "output_type": "execute_result"
    }
   ],
   "source": [
    "# 访问Series的名字属性\n",
    "s5.name"
   ]
  },
  {
   "cell_type": "code",
   "execution_count": 41,
   "id": "d871ae99",
   "metadata": {},
   "outputs": [
    {
     "data": {
      "text/plain": [
       "0    1\n",
       "1    3\n",
       "2    5\n",
       "Name: Odd Numbers, dtype: int64"
      ]
     },
     "execution_count": 41,
     "metadata": {},
     "output_type": "execute_result"
    }
   ],
   "source": [
    "# 从DataFrame里获取的Series，列名就是该Series的名字\n",
    "df1 = pd.DataFrame([[1, 2], [3, 4], [5, 6]],columns=[\"Odd Numbers\", \"Even Numbers\"])\n",
    "df1['Odd Numbers']"
   ]
  },
  {
   "cell_type": "code",
   "execution_count": 42,
   "id": "7ccbf18c",
   "metadata": {},
   "outputs": [
    {
     "data": {
      "text/plain": [
       "'Odd Numbers'"
      ]
     },
     "execution_count": 42,
     "metadata": {},
     "output_type": "execute_result"
    }
   ],
   "source": [
    "# 访问name属性\n",
    "df1['Odd Numbers'].name"
   ]
  },
  {
   "cell_type": "markdown",
   "id": "430967f5",
   "metadata": {},
   "source": [
    "## Series.nbytes"
   ]
  },
  {
   "cell_type": "markdown",
   "id": "62201778",
   "metadata": {},
   "source": [
    "pandas的Series的nbytes属性用于检查Series的底层数据的内存使用情况。它以字节为单位返回数据的大小。这包括存储值所使用的内存和与在Series对象中存储数据相关的任何开销。当处理大型数据集时，nbytes属性可以帮助了解pandas Series的内存使用情况，从而帮助内存优化。"
   ]
  },
  {
   "cell_type": "code",
   "execution_count": 43,
   "id": "aa286982",
   "metadata": {},
   "outputs": [
    {
     "data": {
      "text/plain": [
       "24"
      ]
     },
     "execution_count": 43,
     "metadata": {},
     "output_type": "execute_result"
    }
   ],
   "source": [
    "s5.nbytes"
   ]
  },
  {
   "cell_type": "markdown",
   "id": "a6637362",
   "metadata": {},
   "source": [
    "## Series.ndim"
   ]
  },
  {
   "cell_type": "markdown",
   "id": "9e85990b",
   "metadata": {},
   "source": [
    "返回数据的维度，显然Series维度始终为1"
   ]
  },
  {
   "cell_type": "code",
   "execution_count": 44,
   "id": "2908046a",
   "metadata": {},
   "outputs": [
    {
     "data": {
      "text/plain": [
       "1"
      ]
     },
     "execution_count": 44,
     "metadata": {},
     "output_type": "execute_result"
    }
   ],
   "source": [
    "s5.ndim"
   ]
  },
  {
   "cell_type": "markdown",
   "id": "a0402f08",
   "metadata": {},
   "source": [
    "## Series.shape"
   ]
  },
  {
   "cell_type": "markdown",
   "id": "f3f86ce0",
   "metadata": {},
   "source": [
    "以元组的形式返回数据的维度形状"
   ]
  },
  {
   "cell_type": "code",
   "execution_count": 45,
   "id": "f292bfa3",
   "metadata": {},
   "outputs": [
    {
     "data": {
      "text/plain": [
       "(3,)"
      ]
     },
     "execution_count": 45,
     "metadata": {},
     "output_type": "execute_result"
    }
   ],
   "source": [
    "s5.shape"
   ]
  },
  {
   "cell_type": "markdown",
   "id": "8232efeb",
   "metadata": {},
   "source": [
    "## Series.size"
   ]
  },
  {
   "cell_type": "markdown",
   "id": "178e069f",
   "metadata": {},
   "source": [
    "返回Series对象元素的个数"
   ]
  },
  {
   "cell_type": "code",
   "execution_count": 46,
   "id": "cb9eb08f",
   "metadata": {},
   "outputs": [
    {
     "data": {
      "text/plain": [
       "3"
      ]
     },
     "execution_count": 46,
     "metadata": {},
     "output_type": "execute_result"
    }
   ],
   "source": [
    "s5.size"
   ]
  },
  {
   "cell_type": "markdown",
   "id": "97ab6e60",
   "metadata": {},
   "source": [
    "## Series.values"
   ]
  },
  {
   "cell_type": "markdown",
   "id": "b23d0053",
   "metadata": {},
   "source": [
    "将Series对象以numpy数组返回，与Series.to_numpy不同的是series.values 返回组成 Series 的底层 numpy 数组，没有进行复制。这意味着对返回的 numpy 数组的更改也将更改原始 Series。\n",
    "\n",
    "另一方面，series.to_numpy() 始终会返回数据的新副本。这可能更耗费计算资源，但它也可以确保如果修改返回的 numpy 数组则不会更改原始 Series。\n",
    "\n",
    "通常，如果您只想访问 Series 的值，并且不关心修改它们，使用 series.values 更高效。如果您要在不影响原始 Series 的情况下修改返回的数组，请使用 series.to_numpy()"
   ]
  },
  {
   "cell_type": "code",
   "execution_count": 47,
   "id": "95154ed7",
   "metadata": {},
   "outputs": [
    {
     "data": {
      "text/plain": [
       "0    a\n",
       "1    b\n",
       "2    c\n",
       "dtype: object"
      ]
     },
     "execution_count": 47,
     "metadata": {},
     "output_type": "execute_result"
    }
   ],
   "source": [
    "s6 = pd.Series(['a', 'b', 'c'])\n",
    "s6"
   ]
  },
  {
   "cell_type": "code",
   "execution_count": 48,
   "id": "da43fdd9",
   "metadata": {},
   "outputs": [
    {
     "data": {
      "text/plain": [
       "array(['a', 'b', 'c'], dtype=object)"
      ]
     },
     "execution_count": 48,
     "metadata": {},
     "output_type": "execute_result"
    }
   ],
   "source": [
    "# 返回s6的numpy数组，此时将返回的数组进行修改后，看看原s6会不会变\n",
    "s6_values_array = s6.values\n",
    "s6_values_array"
   ]
  },
  {
   "cell_type": "code",
   "execution_count": 50,
   "id": "410a15c5",
   "metadata": {},
   "outputs": [
    {
     "data": {
      "text/plain": [
       "0    a\n",
       "1    e\n",
       "2    c\n",
       "dtype: object"
      ]
     },
     "execution_count": 50,
     "metadata": {},
     "output_type": "execute_result"
    }
   ],
   "source": [
    "# 修改b为e\n",
    "s6_values_array[1] = 'e'\n",
    "# 再看看s6是否有改变,可以看到s6变了，但是如果用to_numpy就不会变\n",
    "s6"
   ]
  }
 ],
 "metadata": {
  "kernelspec": {
   "display_name": "Python 3 (ipykernel)",
   "language": "python",
   "name": "python3"
  },
  "language_info": {
   "codemirror_mode": {
    "name": "ipython",
    "version": 3
   },
   "file_extension": ".py",
   "mimetype": "text/x-python",
   "name": "python",
   "nbconvert_exporter": "python",
   "pygments_lexer": "ipython3",
   "version": "3.9.7"
  },
  "toc": {
   "base_numbering": 1,
   "nav_menu": {},
   "number_sections": true,
   "sideBar": true,
   "skip_h1_title": false,
   "title_cell": "Table of Contents",
   "title_sidebar": "Contents",
   "toc_cell": false,
   "toc_position": {
    "height": "calc(100% - 180px)",
    "left": "10px",
    "top": "150px",
    "width": "240.797px"
   },
   "toc_section_display": true,
   "toc_window_display": true
  }
 },
 "nbformat": 4,
 "nbformat_minor": 5
}
